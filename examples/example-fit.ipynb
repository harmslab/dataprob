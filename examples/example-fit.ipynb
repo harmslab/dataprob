{
 "cells": [
  {
   "cell_type": "code",
   "execution_count": 1,
   "metadata": {},
   "outputs": [],
   "source": [
    "%matplotlib inline\n",
    "from matplotlib import pyplot as plt\n",
    "import likelihood\n",
    "import pandas as pd\n",
    "import numpy as np"
   ]
  },
  {
   "cell_type": "markdown",
   "metadata": {},
   "source": [
    "### Example model and data\n",
    "\n",
    "Models should have the form:\n",
    "```\n",
    "def some_model(param1,param2,param3,...other_args,...other_kwargs):\n",
    "    return observable\n",
    "```"
   ]
  },
  {
   "cell_type": "code",
   "execution_count": 23,
   "metadata": {},
   "outputs": [
    {
     "data": {
      "image/png": "[encoded data removed]",
      "text/plain": [
       "<Figure size 432x288 with 1 Axes>"
      ]
     },
     "metadata": {
      "needs_background": "light"
     },
     "output_type": "display_data"
    },
    {
     "data": {
      "text/html": [
       "<div>\n",
       "<style scoped>\n",
       "    .dataframe tbody tr th:only-of-type {\n",
       "        vertical-align: middle;\n",
       "    }\n",
       "\n",
       "    .dataframe tbody tr th {\n",
       "        vertical-align: top;\n",
       "    }\n",
       "\n",
       "    .dataframe thead th {\n",
       "        text-align: right;\n",
       "    }\n",
       "</style>\n",
       "<table border=\"1\" class=\"dataframe\">\n",
       "  <thead>\n",
       "    <tr style=\"text-align: right;\">\n",
       "      <th></th>\n",
       "      <th>X</th>\n",
       "      <th>Y</th>\n",
       "      <th>Y_stdev</th>\n",
       "      <th>residual</th>\n",
       "      <th>weighted_residual</th>\n",
       "    </tr>\n",
       "  </thead>\n",
       "  <tbody>\n",
       "    <tr>\n",
       "      <th>0</th>\n",
       "      <td>0.00</td>\n",
       "      <td>-0.083946</td>\n",
       "      <td>-0.083946</td>\n",
       "      <td>-0.083946</td>\n",
       "      <td>1.0</td>\n",
       "    </tr>\n",
       "    <tr>\n",
       "      <th>1</th>\n",
       "      <td>0.25</td>\n",
       "      <td>0.105050</td>\n",
       "      <td>-0.006061</td>\n",
       "      <td>-0.006061</td>\n",
       "      <td>1.0</td>\n",
       "    </tr>\n",
       "    <tr>\n",
       "      <th>2</th>\n",
       "      <td>0.50</td>\n",
       "      <td>0.250501</td>\n",
       "      <td>0.050501</td>\n",
       "      <td>0.050501</td>\n",
       "      <td>1.0</td>\n",
       "    </tr>\n",
       "    <tr>\n",
       "      <th>3</th>\n",
       "      <td>0.75</td>\n",
       "      <td>0.298984</td>\n",
       "      <td>0.026257</td>\n",
       "      <td>0.026257</td>\n",
       "      <td>1.0</td>\n",
       "    </tr>\n",
       "    <tr>\n",
       "      <th>4</th>\n",
       "      <td>1.00</td>\n",
       "      <td>0.335014</td>\n",
       "      <td>0.001681</td>\n",
       "      <td>0.001681</td>\n",
       "      <td>1.0</td>\n",
       "    </tr>\n",
       "  </tbody>\n",
       "</table>\n",
       "</div>"
      ],
      "text/plain": [
       "      X         Y   Y_stdev  residual  weighted_residual\n",
       "0  0.00 -0.083946 -0.083946 -0.083946                1.0\n",
       "1  0.25  0.105050 -0.006061 -0.006061                1.0\n",
       "2  0.50  0.250501  0.050501  0.050501                1.0\n",
       "3  0.75  0.298984  0.026257  0.026257                1.0\n",
       "4  1.00  0.335014  0.001681  0.001681                1.0"
      ]
     },
     "execution_count": 23,
     "metadata": {},
     "output_type": "execute_result"
    }
   ],
   "source": [
    "def binding_model(K,X=None):\n",
    "    \"\"\"\n",
    "    Simple, saturating binding curve.\n",
    "\n",
    "    K: association constant\n",
    "    X: vector of X concentrations\n",
    "    \"\"\"\n",
    "\n",
    "    return K*X/(1 + K*X)\n",
    "\n",
    "df = pd.read_csv(\"binding-curves_noise-0.050.csv\",index_col=0)\n",
    "\n",
    "fig, ax = plt.subplots()\n",
    "ax.errorbar(df.X,df.Y,yerr=df.Y_stdev,fmt=\"o\",color=\"black\")\n",
    "plt.show()\n",
    "\n",
    "df.head()"
   ]
  },
  {
   "cell_type": "markdown",
   "metadata": {},
   "source": [
    "### Wrap the binding model\n",
    "Anything except the fit parameters should be passed in via args and kwargs"
   ]
  },
  {
   "cell_type": "code",
   "execution_count": 3,
   "metadata": {},
   "outputs": [],
   "source": [
    "lm = likelihood.ModelWrapper(binding_model)\n",
    "lm.X = df.X"
   ]
  },
  {
   "cell_type": "markdown",
   "metadata": {},
   "source": [
    "### Construct the fitter and do the fit"
   ]
  },
  {
   "cell_type": "code",
   "execution_count": 20,
   "metadata": {},
   "outputs": [
    {
     "name": "stdout",
     "output_type": "stream",
     "text": [
      "True\n",
      "[0.47813785]\n"
     ]
    }
   ],
   "source": [
    "f = likelihood.MLFitter()\n",
    "f.fit(model=lm.model,guesses=[1.0],y_obs=df.Y,)\n",
    "print(f.success)\n",
    "print(f.estimate)"
   ]
  },
  {
   "cell_type": "markdown",
   "metadata": {},
   "source": [
    "### Alternate way to construct fitter and do fit"
   ]
  },
  {
   "cell_type": "code",
   "execution_count": 21,
   "metadata": {},
   "outputs": [
    {
     "name": "stdout",
     "output_type": "stream",
     "text": [
      "True\n",
      "[0.47813785]\n"
     ]
    }
   ],
   "source": [
    "f = likelihood.MLFitter()\n",
    "f.model = lm.model\n",
    "f.guesses = [1.0]\n",
    "f.y_obs = df.Y\n",
    "f.fit()\n",
    "print(f.success)\n",
    "print(f.estimate)"
   ]
  },
  {
   "cell_type": "markdown",
   "metadata": {},
   "source": [
    "### Add weighted residuals"
   ]
  },
  {
   "cell_type": "code",
   "execution_count": 22,
   "metadata": {},
   "outputs": [
    {
     "name": "stdout",
     "output_type": "stream",
     "text": [
      "True\n",
      "[0.5029113]\n"
     ]
    }
   ],
   "source": [
    "f = likelihood.MLFitter()\n",
    "f.fit(model=lm.model,y_obs=df.Y,y_stdev=df.Y_stdev)\n",
    "print(f.success)\n",
    "print(f.estimate)"
   ]
  },
  {
   "cell_type": "markdown",
   "metadata": {},
   "source": [
    "### Plotting"
   ]
  },
  {
   "cell_type": "code",
   "execution_count": 14,
   "metadata": {},
   "outputs": [
    {
     "data": {
      "text/plain": [
       "[<matplotlib.lines.Line2D at 0x11b955a20>]"
      ]
     },
     "execution_count": 14,
     "metadata": {},
     "output_type": "execute_result"
    },
    {
     "data": {
      "image/png": "[encoded data removed]",
      "text/plain": [
       "<Figure size 432x288 with 1 Axes>"
      ]
     },
     "metadata": {
      "needs_background": "light"
     },
     "output_type": "display_data"
    }
   ],
   "source": [
    "# Plot the fit\n",
    "fig, ax = plt.subplots()\n",
    "ax.errorbar(df.X,df.Y,yerr=df.Y_stdev,fmt=\"o\",color=\"black\")\n",
    "ax.plot(df.X,lm.model(f.estimate),\"-\",color='red')"
   ]
  },
  {
   "cell_type": "markdown",
   "metadata": {},
   "source": [
    "### Corner plot"
   ]
  },
  {
   "cell_type": "code",
   "execution_count": 15,
   "metadata": {
    "scrolled": false
   },
   "outputs": [
    {
     "data": {
      "image/png": "[encoded data removed]",
      "text/plain": [
       "<Figure size 244.8x244.8 with 1 Axes>"
      ]
     },
     "execution_count": 15,
     "metadata": {},
     "output_type": "execute_result"
    },
    {
     "data": {
      "image/png": "[encoded data removed]",
      "text/plain": [
       "<Figure size 244.8x244.8 with 1 Axes>"
      ]
     },
     "metadata": {
      "needs_background": "light"
     },
     "output_type": "display_data"
    }
   ],
   "source": [
    "f.corner_plot()"
   ]
  },
  {
   "cell_type": "markdown",
   "metadata": {},
   "source": [
    "### You can add parameter bounds and names\n",
    "(These can also be set as arguments in the f.fit() call)\n"
   ]
  },
  {
   "cell_type": "code",
   "execution_count": 16,
   "metadata": {},
   "outputs": [
    {
     "name": "stdout",
     "output_type": "stream",
     "text": [
      "True\n",
      "[0.5029113]\n"
     ]
    }
   ],
   "source": [
    "f = likelihood.MLFitter()\n",
    "f.model = lm.model\n",
    "f.guesses = [1.0]\n",
    "f.y_obs = df.Y\n",
    "f.y_stdev = df.Y_stdev\n",
    "f.bounds = [[0],[np.inf]]\n",
    "f.param_names = [\"K\"]\n",
    "f.fit()\n",
    "print(f.success)\n",
    "print(f.estimate)"
   ]
  },
  {
   "cell_type": "markdown",
   "metadata": {},
   "source": [
    "### Bayesian fitter"
   ]
  },
  {
   "cell_type": "code",
   "execution_count": 18,
   "metadata": {},
   "outputs": [
    {
     "name": "stdout",
     "output_type": "stream",
     "text": [
      "True\n",
      "[0.50298071]\n"
     ]
    }
   ],
   "source": [
    "f = likelihood.BayesianFitter()\n",
    "f.fit(model=lm.model,guesses=[1.0],y_obs=df.Y,y_stdev=df.Y_stdev)\n",
    "print(f.success)\n",
    "print(f.estimate)\n"
   ]
  },
  {
   "cell_type": "code",
   "execution_count": 19,
   "metadata": {},
   "outputs": [
    {
     "data": {
      "image/png": "[encoded data removed]",
      "text/plain": [
       "<Figure size 432x288 with 1 Axes>"
      ]
     },
     "metadata": {
      "needs_background": "light"
     },
     "output_type": "display_data"
    }
   ],
   "source": [
    "fig, ax = plt.subplots()\n",
    "ax.errorbar(df.X,df.Y,yerr=df.Y_stdev,fmt=\"o\",color=\"black\")\n",
    "\n",
    "# Plot 100 fits sampled from posterior\n",
    "for i in range(0,len(f.samples),90):\n",
    "    ax.plot(df.X,lm.model(f.samples[i,:]),\"-\",color='red',alpha=0.1)"
   ]
  },
  {
   "cell_type": "code",
   "execution_count": 24,
   "metadata": {},
   "outputs": [
    {
     "data": {
      "text/plain": [
       "{'K': <likelihood.fit_param.FitParameter at 0x1191bedd8>}"
      ]
     },
     "execution_count": 24,
     "metadata": {},
     "output_type": "execute_result"
    }
   ],
   "source": [
    "lm.fit_parameters"
   ]
  },
  {
   "cell_type": "code",
   "execution_count": null,
   "metadata": {},
   "outputs": [],
   "source": []
  }
 ],
 "metadata": {
  "kernelspec": {
   "display_name": "Python 3",
   "language": "python",
   "name": "python3"
  },
  "language_info": {
   "codemirror_mode": {
    "name": "ipython",
    "version": 3
   },
   "file_extension": ".py",
   "mimetype": "text/x-python",
   "name": "python",
   "nbconvert_exporter": "python",
   "pygments_lexer": "ipython3",
   "version": "3.7.3"
  }
 },
 "nbformat": 4,
 "nbformat_minor": 4
}
