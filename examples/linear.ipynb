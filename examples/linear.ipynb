{
 "cells": [
  {
   "cell_type": "code",
   "execution_count": null,
   "id": "be71f499-e425-48b8-9dc9-0af22afefc69",
   "metadata": {},
   "outputs": [],
   "source": [
    "### THIS CELL SETS UP THE GOOGLE COLAB ENVIRONMENT. \n",
    "### IF RUNNING THIS NOTEBOOK LOCALLY, IT MAY BE SAFELY DELETED.\n",
    "\n",
    "#@markdown Install the software by pressing the _Play_ button on the left.\n",
    "\n",
    "try:\n",
    "    import google.colab\n",
    "    RUNNING_IN_COLAB = True\n",
    "except ImportError:\n",
    "    RUNNING_IN_COLAB = False\n",
    "except Exception as e: \n",
    "    err = \"Could not figure out if runnning in a colab notebook\\n\"\n",
    "    raise Exception(err) from e\n",
    "\n",
    "if RUNNING_IN_COLAB:\n",
    "    !pip install dataprob\n"
   ]
  },
  {
   "cell_type": "code",
   "execution_count": null,
   "id": "0d36b125-4899-44ce-b6f2-c55cf1ab4118",
   "metadata": {},
   "outputs": [],
   "source": [
    "%matplotlib inline\n",
    "import numpy as np\n",
    "import pandas as pd\n",
    "import dataprob\n",
    "\n",
    "def linear_model(m=0,b=0,x=None): \n",
    "    return m*x + b\n",
    "\n",
    "# Observed data will have a slope of -5 and an intercept of 100\n",
    "gen_params = {\"m\":-5,\"b\":100}\n",
    "\n",
    "# Set up to collect 20 data points between -5 and 5, with an uncertainty on each \n",
    "# observation of 1\n",
    "num_points = 20\n",
    "x = np.linspace(-5,5,num_points)\n",
    "err = np.random.normal(0,1,num_points)\n",
    "\n",
    "# Generate y_obs and y_std. \n",
    "y_obs = linear_model(x=x,**gen_params) + err\n",
    "y_std = 1\n",
    "\n",
    "expt_df = pd.DataFrame({\"y_obs\":y_obs,\n",
    "                        \"y_std\":y_std})\n",
    "\n",
    "# we need to send `x` into our model as a non-fittable parameter holding the \n",
    "# x-values for the line. \n",
    "x = np.linspace(-5,5,num_points)\n",
    "non_fit_kwargs = {\"x\":x}\n",
    "\n",
    "# Generate Fitter. (Set method to \"bootstrap\" or \"mcmc\" to see the other\n",
    "# analysis methods in action). \n",
    "f = dataprob.setup(some_function=linear_model,\n",
    "                   method=\"ml\",\n",
    "                   non_fit_kwargs=non_fit_kwargs)\n",
    "\n",
    "f.data_df = expt_df\n",
    "\n",
    "# Run fit\n",
    "f.fit()\n",
    "\n",
    "fig = dataprob.plot_summary(f,\n",
    "                            x_axis=x,\n",
    "                            x_label=\"x\",\n",
    "                            y_label=\"y\")"
   ]
  },
  {
   "cell_type": "code",
   "execution_count": null,
   "id": "b749f9f1-4787-42c3-9f87-28bac05e8fc8",
   "metadata": {},
   "outputs": [],
   "source": []
  },
  {
   "cell_type": "code",
   "execution_count": null,
   "id": "884ed484-90a1-4b25-ab53-548b5a9b9a52",
   "metadata": {},
   "outputs": [],
   "source": [
    "fig = dataprob.plot_corner(f)"
   ]
  },
  {
   "cell_type": "code",
   "execution_count": null,
   "id": "782d12ce-0b57-4233-8133-4bd6e5c28915",
   "metadata": {},
   "outputs": [],
   "source": [
    "# Show fit result dataframe\n",
    "f.fit_df "
   ]
  },
  {
   "cell_type": "code",
   "execution_count": null,
   "id": "c4851059-604a-4b03-aeca-380efb80d44b",
   "metadata": {},
   "outputs": [],
   "source": [
    "f.fit_quality"
   ]
  },
  {
   "cell_type": "markdown",
   "id": "a6b0177c-c8d4-4055-9661-088f0a5c9127",
   "metadata": {},
   "source": [
    "### Compare input and fit parameters"
   ]
  },
  {
   "cell_type": "code",
   "execution_count": null,
   "id": "b6ca3466-ffaa-4246-b839-c2e5018fec56",
   "metadata": {},
   "outputs": [],
   "source": [
    "from matplotlib import pyplot as plt\n",
    "\n",
    "fig, ax = plt.subplots(1,figsize=(6,6))\n",
    "\n",
    "x = np.array(list(gen_params.values()))\n",
    "y = np.array(f.fit_df.loc[gen_params.keys(),\"estimate\"])\n",
    "yerr = np.array(f.fit_df.loc[gen_params.keys(),\"std\"])\n",
    "\n",
    "combined = list(x)\n",
    "combined.extend(y)\n",
    "span = (np.max(combined) - np.min(combined))\n",
    "extend_by = 0.1*span\n",
    "offset = 0.03*span\n",
    "min_value = np.min(combined) - extend_by\n",
    "max_value = np.max(combined) + extend_by\n",
    "\n",
    "ax.scatter(x,y,s=20,edgecolor='none',facecolor='red',zorder=1)\n",
    "ax.errorbar(x=x,y=y,yerr=yerr,lw=0,elinewidth=1,capsize=3,color='black',zorder=2)\n",
    "\n",
    "for i, k in enumerate(gen_params.keys()):\n",
    "    ax.text(x=x[i] - offset,y=y[i] + offset,s=k)\n",
    "\n",
    "\n",
    "ax.plot((min_value,max_value),(min_value,max_value),'--',color='gray',zorder=0)\n",
    "\n",
    "ax.set_xlim(min_value,max_value)\n",
    "ax.set_ylim(min_value,max_value)\n",
    "ax.set_xlabel(\"input parameter value\")\n",
    "ax.set_ylabel(\"estimated parameter value\")\n"
   ]
  },
  {
   "cell_type": "code",
   "execution_count": null,
   "id": "88de7586-6f35-479c-84ad-b204ecb17d59",
   "metadata": {},
   "outputs": [],
   "source": []
  }
 ],
 "metadata": {
  "kernelspec": {
   "display_name": "Python 3 (ipykernel)",
   "language": "python",
   "name": "python3"
  },
  "language_info": {
   "codemirror_mode": {
    "name": "ipython",
    "version": 3
   },
   "file_extension": ".py",
   "mimetype": "text/x-python",
   "name": "python",
   "nbconvert_exporter": "python",
   "pygments_lexer": "ipython3",
   "version": "3.12.2"
  }
 },
 "nbformat": 4,
 "nbformat_minor": 5
}
