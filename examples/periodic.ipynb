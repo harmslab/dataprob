{
 "cells": [
  {
   "cell_type": "code",
   "execution_count": null,
   "id": "0ee00796-bd34-475d-acdd-e2e878bfae47",
   "metadata": {},
   "outputs": [],
   "source": [
    "### THIS CELL SETS UP THE GOOGLE COLAB ENVIRONMENT. \n",
    "### IF RUNNING THIS NOTEBOOK LOCALLY, IT MAY BE SAFELY DELETED.\n",
    "\n",
    "#@title Install software\n",
    "\n",
    "#@markdown Install the software by pressing the _Play_ button on the left.\n",
    "\n",
    "try:\n",
    "    import google.colab\n",
    "    RUNNING_IN_COLAB = True\n",
    "except ImportError:\n",
    "    RUNNING_IN_COLAB = False\n",
    "except Exception as e: \n",
    "    err = \"Could not figure out if runnning in a colab notebook\\n\"\n",
    "    raise Exception(err) from e\n",
    "\n",
    "if RUNNING_IN_COLAB:\n",
    "    !pip install dataprob\n"
   ]
  },
  {
   "cell_type": "code",
   "execution_count": null,
   "id": "76af5cec-aa8c-412c-a99d-9da0da40b61b",
   "metadata": {},
   "outputs": [],
   "source": [
    "### NOTE: it would likely be better to reformulate this as a fourier transform\n",
    "# because this regression is not particularly well-behaved. The poor behavior, \n",
    "# however, lets us show a \"real life\" example of setting parameter bounds, etc.\n",
    "\n",
    "%matplotlib inline\n",
    "import dataprob\n",
    "import numpy as np\n",
    "\n",
    "def periodic(amplitude,phase,freq,theta):\n",
    "    return amplitude*np.sin(freq*theta + phase)\n",
    "\n",
    "gen_params = {\"amplitude\":5,\n",
    "              \"phase\":np.pi/2,\n",
    "              \"freq\":2}\n",
    "\n",
    "err = 0.2\n",
    "num_points = 50\n",
    "\n",
    "theta = np.linspace(0,4*np.pi,num_points)\n",
    "y_obs = periodic(theta=theta,**gen_params) + np.random.normal(0,err,num_points)\n",
    "y_std = err\n",
    "\n",
    "non_fit_kwargs={\"theta\":theta}\n",
    "\n",
    "f = dataprob.setup(periodic,\n",
    "                   method=\"ml\",\n",
    "                   non_fit_kwargs=non_fit_kwargs)\n",
    "\n",
    "# Set the guesses and bounds. Because of the periodicity, this is not\n",
    "# particularly well behaved. Fix frequency at right value. \n",
    "f.param_df.loc[\"amplitude\",\"guess\"] = 1\n",
    "f.param_df.loc[\"phase\",\"guess\"] = np.pi/2\n",
    "\n",
    "f.param_df.loc[\"freq\",\"guess\"] = 2.0\n",
    "f.param_df.loc[\"freq\",\"fixed\"] = True\n",
    "\n",
    "f.param_df.loc[\"phase\",\"lower_bound\"] = np.pi/2.5\n",
    "f.param_df.loc[\"phase\",\"upper_bound\"] = np.pi/1.5\n",
    "\n",
    "f.fit(y_obs=y_obs,\n",
    "      y_std=y_std)\n",
    "\n",
    "fig = dataprob.plot_summary(f)"
   ]
  },
  {
   "cell_type": "code",
   "execution_count": null,
   "id": "7ae52733-b40b-4ccf-8117-26999eb4b8a5",
   "metadata": {},
   "outputs": [],
   "source": [
    "fig = dataprob.plot_corner(f)"
   ]
  },
  {
   "cell_type": "code",
   "execution_count": null,
   "id": "61510676-f158-44e6-9e37-c65b2e0694bb",
   "metadata": {},
   "outputs": [],
   "source": [
    "f.fit_df"
   ]
  },
  {
   "cell_type": "code",
   "execution_count": null,
   "id": "cf4f7a3e-97fc-471b-a143-261831c884e3",
   "metadata": {},
   "outputs": [],
   "source": [
    "f.fit_quality"
   ]
  },
  {
   "cell_type": "markdown",
   "id": "42a99191-d5e3-4c00-9aba-502b63a493e9",
   "metadata": {},
   "source": [
    "### Compare input and fit parameters"
   ]
  },
  {
   "cell_type": "code",
   "execution_count": null,
   "id": "3ba2a30d-13c4-49d1-b89e-7a17f8060ee9",
   "metadata": {},
   "outputs": [],
   "source": [
    "from matplotlib import pyplot as plt\n",
    "\n",
    "fig, ax = plt.subplots(1,figsize=(6,6))\n",
    "\n",
    "x = np.array(list(gen_params.values()))\n",
    "y = np.array(f.fit_df.loc[gen_params.keys(),\"estimate\"])\n",
    "yerr = np.array(f.fit_df.loc[gen_params.keys(),\"std\"])\n",
    "\n",
    "combined = list(x)\n",
    "combined.extend(y)\n",
    "span = (np.max(combined) - np.min(combined))\n",
    "extend_by = 0.1*span\n",
    "offset = 0.03*span\n",
    "min_value = np.min(combined) - extend_by\n",
    "max_value = np.max(combined) + extend_by\n",
    "\n",
    "ax.scatter(x,y,s=20,edgecolor='none',facecolor='red',zorder=1)\n",
    "ax.errorbar(x=x,y=y,yerr=yerr,lw=0,elinewidth=1,capsize=3,color='black',zorder=2)\n",
    "\n",
    "for i, k in enumerate(gen_params.keys()):\n",
    "    ax.text(x=x[i] - offset,y=y[i] + offset,s=k)\n",
    "\n",
    "\n",
    "ax.plot((min_value,max_value),(min_value,max_value),'--',color='gray',zorder=0)\n",
    "\n",
    "ax.set_xlim(min_value,max_value)\n",
    "ax.set_ylim(min_value,max_value)\n",
    "ax.set_xlabel(\"input parameter value\")\n",
    "ax.set_ylabel(\"estimated parameter value\")\n",
    "\n"
   ]
  },
  {
   "cell_type": "code",
   "execution_count": null,
   "id": "33a91489-9d71-4601-89bd-1ad2cd589332",
   "metadata": {},
   "outputs": [],
   "source": []
  }
 ],
 "metadata": {
  "kernelspec": {
   "display_name": "Python 3 (ipykernel)",
   "language": "python",
   "name": "python3"
  },
  "language_info": {
   "codemirror_mode": {
    "name": "ipython",
    "version": 3
   },
   "file_extension": ".py",
   "mimetype": "text/x-python",
   "name": "python",
   "nbconvert_exporter": "python",
   "pygments_lexer": "ipython3",
   "version": "3.12.2"
  }
 },
 "nbformat": 4,
 "nbformat_minor": 5
}
