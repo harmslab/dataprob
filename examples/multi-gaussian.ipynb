{
 "cells": [
  {
   "cell_type": "code",
   "execution_count": null,
   "id": "bf2a4de6-f4ae-4138-9fc9-b204f9698ad9",
   "metadata": {},
   "outputs": [],
   "source": [
    "### THIS CELL SETS UP THE GOOGLE COLAB ENVIRONMENT. \n",
    "### IF RUNNING THIS NOTEBOOK LOCALLY, IT MAY BE SAFELY DELETED.\n",
    "\n",
    "#@title Install software\n",
    "\n",
    "#@markdown Install the software by pressing the _Play_ button on the left.\n",
    "\n",
    "try:\n",
    "    import google.colab\n",
    "    RUNNING_IN_COLAB = True\n",
    "except ImportError:\n",
    "    RUNNING_IN_COLAB = False\n",
    "except Exception as e: \n",
    "    err = \"Could not figure out if runnning in a colab notebook\\n\"\n",
    "    raise Exception(err) from e\n",
    "\n",
    "if RUNNING_IN_COLAB:\n",
    "    !pip install dataprob\n"
   ]
  },
  {
   "cell_type": "code",
   "execution_count": null,
   "id": "48faf78d-d972-4f14-a66a-6c8db1e7639e",
   "metadata": {},
   "outputs": [],
   "source": [
    "%matplotlib inline\n",
    "import dataprob\n",
    "import numpy as np\n",
    "from scipy import stats\n",
    "\n",
    "def multi_gaussian(params,num_gaussians,x):\n",
    "    \"\"\"\n",
    "    Generate a multi-guassian.\n",
    "\n",
    "    Parameters\n",
    "    ----------\n",
    "    params : numpy.ndarray\n",
    "        float numpy array that is num_gaussians*3 long. this encodes the\n",
    "        gaussian [mean1,std1,area1,mean2,std2,area2,...meanN,stdN,areaN]\n",
    "        shape parameters\n",
    "    num_gaussians : int\n",
    "        number of gaussians in the params array\n",
    "    x : numpy.ndarray\n",
    "        calculate guassians over the values in x \n",
    "\n",
    "    Returns\n",
    "    -------\n",
    "    out : numpy.ndarray\n",
    "        sum of the pdfs for the gaussians in params calculated over x\n",
    "    \"\"\"\n",
    "\n",
    "    # Create output array\n",
    "    out = np.zeros(len(x),dtype=float)\n",
    "\n",
    "    # For each gaussian\n",
    "    for i in range(num_gaussians):\n",
    "\n",
    "        # Grab the shape parameters\n",
    "        mean = params[i*3]\n",
    "        std = params[i*3 + 1]\n",
    "        area = params[i*3 + 2]\n",
    "\n",
    "        # Add this to out\n",
    "        out += area*stats.norm(loc=mean,scale=std).pdf(x)\n",
    "\n",
    "    return out\n",
    "    \n",
    "gen_params = {\"params\":np.array([5,0.3,10,6,1.5,10]),\n",
    "              \"num_gaussians\":2}\n",
    "\n",
    "err = 0.25\n",
    "num_points = 50\n",
    "\n",
    "x = np.linspace(0,10,num_points)\n",
    "y_obs = multi_gaussian(x=x,**gen_params) + np.random.normal(0,err,num_points)\n",
    "y_std = err\n",
    "\n",
    "test_fcn = multi_gaussian\n",
    "non_fit_kwargs = {\"x\":x,\n",
    "                  \"num_gaussians\":2}\n",
    "\n",
    "f = dataprob.setup(some_function=test_fcn,\n",
    "                   method=\"ml\",\n",
    "                   fit_parameters=[\"m0\",\"s0\",\"a0\",\"m1\",\"s1\",\"a1\"],\n",
    "                   non_fit_kwargs=non_fit_kwargs,\n",
    "                   vector_first_arg=True)\n",
    "\n",
    "f.param_df.loc[[\"m0\",\"s0\",\"a0\",\"m1\",\"s1\",\"a1\"],\"guess\"] = [5,1,1,7,1,1]\n",
    "f.param_df.loc[\"s0\",\"lower_bound\"] = 0\n",
    "f.param_df.loc[\"s1\",\"lower_bound\"] = 0\n",
    "f.param_df.loc[\"a0\",\"lower_bound\"] = 0\n",
    "f.param_df.loc[\"a1\",\"lower_bound\"] = 0\n",
    "\n",
    "f.fit(y_obs=y_obs,\n",
    "      y_std=y_std)\n",
    "\n",
    "\n",
    "fig = dataprob.plot_summary(f)\n",
    "\n"
   ]
  },
  {
   "cell_type": "code",
   "execution_count": null,
   "id": "038040b9-4167-449d-abdd-292812870580",
   "metadata": {},
   "outputs": [],
   "source": [
    "fig = dataprob.plot_corner(f,filter_params=[\"a\"])\n"
   ]
  },
  {
   "cell_type": "code",
   "execution_count": null,
   "id": "36816627-7212-40e3-b150-00b521a0266d",
   "metadata": {},
   "outputs": [],
   "source": [
    "f.fit_df"
   ]
  },
  {
   "cell_type": "code",
   "execution_count": null,
   "id": "91578f50-a289-4830-922e-0a134cde76a3",
   "metadata": {},
   "outputs": [],
   "source": [
    "f.fit_quality"
   ]
  },
  {
   "cell_type": "markdown",
   "id": "0477f9fe-85b5-41e6-a409-d872af6cc524",
   "metadata": {},
   "source": [
    "### Compare input and fit parameters"
   ]
  },
  {
   "cell_type": "code",
   "execution_count": null,
   "id": "ba5b3a19-f84e-444e-ac8d-8312d5fb5b5b",
   "metadata": {},
   "outputs": [],
   "source": [
    "from matplotlib import pyplot as plt\n",
    "\n",
    "fig, ax = plt.subplots(1,figsize=(6,6))\n",
    "\n",
    "x = np.array(list(gen_params[\"params\"]))\n",
    "y = np.array(f.fit_df.loc[:,\"estimate\"])\n",
    "yerr = np.array(f.fit_df.loc[:,\"std\"])\n",
    "\n",
    "combined = list(x)\n",
    "combined.extend(y)\n",
    "span = (np.max(combined) - np.min(combined))\n",
    "extend_by = 0.1*span\n",
    "offset = 0.03*span\n",
    "min_value = np.min(combined) - extend_by\n",
    "max_value = np.max(combined) + extend_by\n",
    "\n",
    "ax.scatter(x,y,s=20,edgecolor='none',facecolor='red',zorder=1)\n",
    "ax.errorbar(x=x,y=y,yerr=yerr,lw=0,elinewidth=1,capsize=3,color='black',zorder=2)\n",
    "\n",
    "for i, k in enumerate(f.fit_df[\"name\"]):\n",
    "    ax.text(x=x[i] - offset,y=y[i] + offset,s=k)\n",
    "\n",
    "\n",
    "ax.plot((min_value,max_value),(min_value,max_value),'--',color='gray',zorder=0)\n",
    "\n",
    "ax.set_xlim(min_value,max_value)\n",
    "ax.set_ylim(min_value,max_value)\n",
    "ax.set_xlabel(\"input parameter value\")\n",
    "ax.set_ylabel(\"estimated parameter value\")"
   ]
  },
  {
   "cell_type": "code",
   "execution_count": null,
   "id": "049e5cfe-f873-4d6b-8483-abcd2557760d",
   "metadata": {},
   "outputs": [],
   "source": []
  },
  {
   "cell_type": "code",
   "execution_count": null,
   "id": "d7ced2ee-4247-479c-b21c-c1f6c9e2fe8d",
   "metadata": {},
   "outputs": [],
   "source": []
  }
 ],
 "metadata": {
  "kernelspec": {
   "display_name": "Python 3 (ipykernel)",
   "language": "python",
   "name": "python3"
  },
  "language_info": {
   "codemirror_mode": {
    "name": "ipython",
    "version": 3
   },
   "file_extension": ".py",
   "mimetype": "text/x-python",
   "name": "python",
   "nbconvert_exporter": "python",
   "pygments_lexer": "ipython3",
   "version": "3.12.2"
  }
 },
 "nbformat": 4,
 "nbformat_minor": 5
}
