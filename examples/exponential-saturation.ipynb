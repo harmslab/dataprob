{
 "cells": [
  {
   "cell_type": "code",
   "execution_count": null,
   "id": "8fc1904b-71ce-4e1b-913a-74e65beecb6d",
   "metadata": {},
   "outputs": [],
   "source": [
    "### THIS CELL SETS UP THE GOOGLE COLAB ENVIRONMENT. \n",
    "### IF RUNNING THIS NOTEBOOK LOCALLY, IT MAY BE SAFELY DELETED.\n",
    "\n",
    "#@title Install software\n",
    "\n",
    "#@markdown Install the software by pressing the _Play_ button on the left.\n",
    "\n",
    "try:\n",
    "    import google.colab\n",
    "    RUNNING_IN_COLAB = True\n",
    "except ImportError:\n",
    "    RUNNING_IN_COLAB = False\n",
    "except Exception as e: \n",
    "    err = \"Could not figure out if runnning in a colab notebook\\n\"\n",
    "    raise Exception(err) from e\n",
    "\n",
    "if RUNNING_IN_COLAB:\n",
    "    !pip install dataprob"
   ]
  },
  {
   "cell_type": "code",
   "execution_count": null,
   "id": "ba7c5dd8-0b6e-4268-9295-acd88c6e06c9",
   "metadata": {},
   "outputs": [],
   "source": [
    "%matplotlib inline\n",
    "import dataprob\n",
    "import numpy as np\n",
    "\n",
    "# ------------------------------------------------------------------------\n",
    "# Define model and generate data\n",
    "\n",
    "def exponential_saturation(a,b,k,x): \n",
    "    \n",
    "    return a*(1 - np.exp(-k*(x))) + b\n",
    "\n",
    "gen_params = {\"a\":13,\n",
    "              \"b\":-2,\n",
    "              \"k\":0.5}\n",
    "\n",
    "err = 0.3\n",
    "num_points = 20\n",
    "\n",
    "x = np.linspace(0,10,num_points)\n",
    "y_obs = exponential_saturation(x=x,**gen_params) + np.random.normal(0,err,num_points)\n",
    "y_std = err\n",
    "\n",
    "test_fcn = exponential_saturation\n",
    "non_fit_kwargs = {\"x\":x}\n",
    "\n",
    "# ------------------------------------------------------------------------\n",
    "# Run analysis\n",
    "\n",
    "f = dataprob.setup(some_function=test_fcn,\n",
    "                   method=\"ml\",\n",
    "                   non_fit_kwargs=non_fit_kwargs)\n",
    "\n",
    "f.param_df.loc[[\"a\",\"b\",\"k\"],\"guess\"] = [1,1,1]\n",
    "\n",
    "f.param_df.loc[\"k\",\"lower_bound\"] = 1e-12\n",
    "f.param_df.loc[\"k\",\"upper_bound\"] = 2\n",
    "\n",
    "f.fit(y_obs=y_obs,\n",
    "      y_std=y_std)\n",
    "\n",
    "\n",
    "fig = dataprob.plot_summary(f)\n"
   ]
  },
  {
   "cell_type": "code",
   "execution_count": null,
   "id": "5108f9b2-c919-45bd-a049-a4a5ff1c671b",
   "metadata": {},
   "outputs": [],
   "source": [
    "fig = dataprob.plot_corner(f)"
   ]
  },
  {
   "cell_type": "code",
   "execution_count": null,
   "id": "ea581335-f335-498f-ab20-ea2c4184d703",
   "metadata": {},
   "outputs": [],
   "source": [
    "f.fit_df"
   ]
  },
  {
   "cell_type": "code",
   "execution_count": null,
   "id": "146dbdb2-1e96-4995-aaf4-b12607c8d81e",
   "metadata": {},
   "outputs": [],
   "source": [
    "f.fit_quality"
   ]
  },
  {
   "cell_type": "markdown",
   "id": "3d721368-90a6-448e-81b1-b9f9b392110b",
   "metadata": {},
   "source": [
    "### Compare input and fit parameters"
   ]
  },
  {
   "cell_type": "code",
   "execution_count": null,
   "id": "57d8be04-291c-4139-a86a-d8ad46a6fd03",
   "metadata": {},
   "outputs": [],
   "source": [
    "from matplotlib import pyplot as plt\n",
    "\n",
    "fig, ax = plt.subplots(1,figsize=(6,6))\n",
    "\n",
    "x = np.array(list(gen_params.values()))\n",
    "y = np.array(f.fit_df.loc[gen_params.keys(),\"estimate\"])\n",
    "yerr = np.array(f.fit_df.loc[gen_params.keys(),\"std\"])\n",
    "\n",
    "combined = list(x)\n",
    "combined.extend(y)\n",
    "span = (np.max(combined) - np.min(combined))\n",
    "extend_by = 0.1*span\n",
    "offset = 0.03*span\n",
    "min_value = np.min(combined) - extend_by\n",
    "max_value = np.max(combined) + extend_by\n",
    "\n",
    "ax.scatter(x,y,s=20,edgecolor='none',facecolor='red',zorder=1)\n",
    "ax.errorbar(x=x,y=y,yerr=yerr,lw=0,elinewidth=1,capsize=3,color='black',zorder=2)\n",
    "\n",
    "for i, k in enumerate(gen_params.keys()):\n",
    "    ax.text(x=x[i] - offset,y=y[i] + offset,s=k)\n",
    "\n",
    "\n",
    "ax.plot((min_value,max_value),(min_value,max_value),'--',color='gray',zorder=0)\n",
    "\n",
    "ax.set_xlim(min_value,max_value)\n",
    "ax.set_ylim(min_value,max_value)\n",
    "ax.set_xlabel(\"input parameter value\")\n",
    "ax.set_ylabel(\"estimated parameter value\")\n",
    "\n"
   ]
  },
  {
   "cell_type": "code",
   "execution_count": null,
   "id": "4d30c3c5-977c-42a0-8faa-62b3e10988ed",
   "metadata": {},
   "outputs": [],
   "source": []
  }
 ],
 "metadata": {
  "kernelspec": {
   "display_name": "Python 3 (ipykernel)",
   "language": "python",
   "name": "python3"
  },
  "language_info": {
   "codemirror_mode": {
    "name": "ipython",
    "version": 3
   },
   "file_extension": ".py",
   "mimetype": "text/x-python",
   "name": "python",
   "nbconvert_exporter": "python",
   "pygments_lexer": "ipython3",
   "version": "3.12.2"
  }
 },
 "nbformat": 4,
 "nbformat_minor": 5
}
