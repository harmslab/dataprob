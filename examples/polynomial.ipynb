{
 "cells": [
  {
   "cell_type": "code",
   "execution_count": null,
   "id": "acc6b83c-becd-4487-b7e2-fee81ba57d1c",
   "metadata": {},
   "outputs": [],
   "source": [
    "### THIS CELL SETS UP THE GOOGLE COLAB ENVIRONMENT. \n",
    "### IF RUNNING THIS NOTEBOOK LOCALLY, IT MAY BE SAFELY DELETED.\n",
    "\n",
    "#@title Install software\n",
    "\n",
    "#@markdown Install the software by pressing the _Play_ button on the left.\n",
    "\n",
    "try:\n",
    "    import google.colab\n",
    "    RUNNING_IN_COLAB = True\n",
    "except ImportError:\n",
    "    RUNNING_IN_COLAB = False\n",
    "except Exception as e: \n",
    "    err = \"Could not figure out if runnning in a colab notebook\\n\"\n",
    "    raise Exception(err) from e\n",
    "\n",
    "if RUNNING_IN_COLAB:\n",
    "    !pip install dataprob\n"
   ]
  },
  {
   "cell_type": "code",
   "execution_count": null,
   "id": "5c31f6b5-4869-4d84-aac9-5f23a2670895",
   "metadata": {},
   "outputs": [],
   "source": [
    "%matplotlib inline\n",
    "import dataprob\n",
    "import numpy as np\n",
    "\n",
    "\n",
    "def fourth_order_polynomial(a=1,b=1,c=1,d=1,e=1,x=None): \n",
    "    return a + b*x + c*(x**2) + d*(x**3) + e*(x**4)\n",
    "\n",
    "gen_params = {\"a\":5,\n",
    "              \"b\":0.01,\n",
    "              \"c\":0.2,\n",
    "              \"d\":0.03,\n",
    "              \"e\":0.001}\n",
    "\n",
    "err = 1\n",
    "num_points = 50\n",
    "x = np.linspace(-10,10,num_points)\n",
    "y_obs = fourth_order_polynomial(x=x,**gen_params) + np.random.normal(loc=0,scale=err,size=num_points)\n",
    "y_std = err\n",
    "\n",
    "f = dataprob.setup(fourth_order_polynomial,\n",
    "                   method=\"ml\",\n",
    "                   non_fit_kwargs={\"x\":x})\n",
    "f.fit(y_obs=y_obs,\n",
    "      y_std=y_std)\n",
    "\n",
    "fig = dataprob.plot_summary(f)\n"
   ]
  },
  {
   "cell_type": "code",
   "execution_count": null,
   "id": "052b2b48-d72e-47f2-bd89-bc36d1745db9",
   "metadata": {},
   "outputs": [],
   "source": [
    "fig = dataprob.plot_corner(f)\n"
   ]
  },
  {
   "cell_type": "code",
   "execution_count": null,
   "id": "c685baac-93d0-43e1-b6d0-aa725a5e4c95",
   "metadata": {},
   "outputs": [],
   "source": [
    "f.fit_df"
   ]
  },
  {
   "cell_type": "code",
   "execution_count": null,
   "id": "01c14db9-c671-4ba0-8929-5276681fd341",
   "metadata": {},
   "outputs": [],
   "source": [
    "f.fit_quality"
   ]
  },
  {
   "cell_type": "markdown",
   "id": "ec8d2f5a-8565-4b20-9942-9c7c125ea976",
   "metadata": {},
   "source": [
    "### Compare input and fit parameters"
   ]
  },
  {
   "cell_type": "code",
   "execution_count": null,
   "id": "5f1ce0e0-8a3a-4099-81ae-5a2a292299ad",
   "metadata": {},
   "outputs": [],
   "source": [
    "from matplotlib import pyplot as plt\n",
    "\n",
    "fig, ax = plt.subplots(1,figsize=(6,6))\n",
    "\n",
    "x = np.array(list(gen_params.values()))\n",
    "y = np.array(f.fit_df.loc[gen_params.keys(),\"estimate\"])\n",
    "yerr = np.array(f.fit_df.loc[gen_params.keys(),\"std\"])\n",
    "\n",
    "combined = list(x)\n",
    "combined.extend(y)\n",
    "span = (np.max(combined) - np.min(combined))\n",
    "extend_by = 0.1*span\n",
    "offset = 0.03*span\n",
    "min_value = np.min(combined) - extend_by\n",
    "max_value = np.max(combined) + extend_by\n",
    "\n",
    "ax.scatter(x,y,s=20,edgecolor='none',facecolor='red',zorder=1)\n",
    "ax.errorbar(x=x,y=y,yerr=yerr,lw=0,elinewidth=1,capsize=3,color='black',zorder=2)\n",
    "\n",
    "for i, k in enumerate(gen_params.keys()):\n",
    "    ax.text(x=x[i] - offset,y=y[i] + offset,s=k)\n",
    "\n",
    "\n",
    "ax.plot((min_value,max_value),(min_value,max_value),'--',color='gray',zorder=0)\n",
    "\n",
    "ax.set_xlim(min_value,max_value)\n",
    "ax.set_ylim(min_value,max_value)\n",
    "ax.set_xlabel(\"input parameter value\")\n",
    "ax.set_ylabel(\"estimated parameter value\")\n",
    "\n"
   ]
  },
  {
   "cell_type": "code",
   "execution_count": null,
   "id": "b3054368-18fc-4b60-b03e-97af0f14330d",
   "metadata": {},
   "outputs": [],
   "source": []
  }
 ],
 "metadata": {
  "kernelspec": {
   "display_name": "Python 3 (ipykernel)",
   "language": "python",
   "name": "python3"
  },
  "language_info": {
   "codemirror_mode": {
    "name": "ipython",
    "version": 3
   },
   "file_extension": ".py",
   "mimetype": "text/x-python",
   "name": "python",
   "nbconvert_exporter": "python",
   "pygments_lexer": "ipython3",
   "version": "3.12.2"
  }
 },
 "nbformat": 4,
 "nbformat_minor": 5
}
