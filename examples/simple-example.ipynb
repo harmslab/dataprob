{
 "cells": [
  {
   "cell_type": "code",
   "execution_count": null,
   "id": "9dafc1ef-c2b7-4a7e-ae8f-42d187979d72",
   "metadata": {},
   "outputs": [],
   "source": [
    "### THIS CELL SETS UP THE GOOGLE COLAB ENVIRONMENT. \n",
    "### IF RUNNING THIS NOTEBOOK LOCALLY, IT MAY BE SAFELY DELETED.\n",
    "\n",
    "#@title Install software\n",
    "\n",
    "#@markdown Install the software by pressing the _Play_ button on the left.\n",
    "\n",
    "try:\n",
    "    import google.colab\n",
    "    RUNNING_IN_COLAB = True\n",
    "except ImportError:\n",
    "    RUNNING_IN_COLAB = False\n",
    "except Exception as e: \n",
    "    err = \"Could not figure out if runnning in a colab notebook\\n\"\n",
    "    raise Exception(err) from e\n",
    "\n",
    "if RUNNING_IN_COLAB:\n",
    "    !pip install dataprob\n"
   ]
  },
  {
   "cell_type": "code",
   "execution_count": null,
   "id": "1164eef3-ccba-403c-927f-5884fbe92576",
   "metadata": {},
   "outputs": [],
   "source": [
    "%matplotlib inline \n",
    "import dataprob\n",
    "import numpy as np\n",
    "\n",
    "# Generate \"experimental\" linear data (slope = 5, intercept = 5.7) that has\n",
    "# random noise on each point. \n",
    "x_array = np.linspace(0,10,25)\n",
    "noise = np.random.normal(loc=0,scale=0.5,size=x_array.shape)\n",
    "y_obs = 5*x_array + 5.7 + noise\n",
    "\n",
    "# 1. Define a linear model\n",
    "def linear_model(m=1,b=1,x=[]):\n",
    "    return m*x + b\n",
    "\n",
    "# 2. Set up the analysis. 'method' can be \"ml\", \"mcmc\", or \"bootstrap\"\n",
    "f = dataprob.setup(linear_model,\n",
    "                   method=\"ml\",\n",
    "                   non_fit_kwargs={\"x\":x_array})\n",
    "\n",
    "# 3. Fit the parameters of linear_model model to y_obs, assuming uncertainty\n",
    "#    of 0.5 on each observed point. \n",
    "f.fit(y_obs=y_obs,\n",
    "      y_std=0.5)\n",
    "\n",
    "# 4. Access results\n",
    "fig = dataprob.plot_summary(f)\n",
    "fig = dataprob.plot_corner(f)\n"
   ]
  },
  {
   "cell_type": "code",
   "execution_count": null,
   "id": "a9906192-04ea-429d-8e3a-c46f193e65ee",
   "metadata": {},
   "outputs": [],
   "source": [
    "f.fit_df"
   ]
  },
  {
   "cell_type": "code",
   "execution_count": null,
   "id": "a927884b-eab4-4ea8-b632-b6f919974326",
   "metadata": {},
   "outputs": [],
   "source": [
    "f.fit_quality"
   ]
  },
  {
   "cell_type": "code",
   "execution_count": null,
   "id": "2516832a-8105-4ce0-be65-7554fcdcbb92",
   "metadata": {},
   "outputs": [],
   "source": []
  }
 ],
 "metadata": {
  "kernelspec": {
   "display_name": "Python 3 (ipykernel)",
   "language": "python",
   "name": "python3"
  },
  "language_info": {
   "codemirror_mode": {
    "name": "ipython",
    "version": 3
   },
   "file_extension": ".py",
   "mimetype": "text/x-python",
   "name": "python",
   "nbconvert_exporter": "python",
   "pygments_lexer": "ipython3",
   "version": "3.12.2"
  }
 },
 "nbformat": 4,
 "nbformat_minor": 5
}
