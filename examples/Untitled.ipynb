{
 "cells": [
  {
   "cell_type": "code",
   "execution_count": 47,
   "metadata": {},
   "outputs": [],
   "source": [
    "import numpy as np\n",
    "import inspect\n",
    "\n",
    "import likelihood\n",
    "\n",
    "def my_model(K1,K2=10,non_float=\"test\"):\n",
    "    \n",
    "    return K2*K2\n",
    "\n",
    "m = likelihood.ModelWrapper(my_model)"
   ]
  },
  {
   "cell_type": "code",
   "execution_count": 58,
   "metadata": {},
   "outputs": [
    {
     "ename": "AttributeError",
     "evalue": "'ModelWrapper' object has no attribute '__qualname__'",
     "output_type": "error",
     "traceback": [
      "\u001b[0;31m---------------------------------------------------------------------------\u001b[0m",
      "\u001b[0;31mAttributeError\u001b[0m                            Traceback (most recent call last)",
      "\u001b[0;32m<ipython-input-58-d08bc486f8a9>\u001b[0m in \u001b[0;36m<module>\u001b[0;34m\u001b[0m\n\u001b[0;32m----> 1\u001b[0;31m \u001b[0mm\u001b[0m\u001b[0;34m.\u001b[0m\u001b[0m__qualname__\u001b[0m\u001b[0;34m\u001b[0m\u001b[0;34m\u001b[0m\u001b[0m\n\u001b[0m",
      "\u001b[0;31mAttributeError\u001b[0m: 'ModelWrapper' object has no attribute '__qualname__'"
     ]
    }
   ],
   "source": [
    "m.__qualname__"
   ]
  },
  {
   "cell_type": "code",
   "execution_count": 57,
   "metadata": {},
   "outputs": [
    {
     "data": {
      "text/plain": [
       "True"
      ]
     },
     "execution_count": 57,
     "metadata": {},
     "output_type": "execute_result"
    }
   ],
   "source": [
    "isinstance(m,likelihood.model_wrapper.ModelWrapper)"
   ]
  },
  {
   "cell_type": "code",
   "execution_count": 45,
   "metadata": {},
   "outputs": [
    {
     "name": "stdout",
     "output_type": "stream",
     "text": [
      "yo\n"
     ]
    },
    {
     "data": {
      "text/plain": [
       "array([], dtype=float64)"
      ]
     },
     "execution_count": 45,
     "metadata": {},
     "output_type": "execute_result"
    }
   ],
   "source": [
    "a = m.model\n",
    "a.__self__.param_names"
   ]
  },
  {
   "cell_type": "code",
   "execution_count": 25,
   "metadata": {},
   "outputs": [
    {
     "ename": "AttributeError",
     "evalue": "'function' object has no attribute 'self'",
     "output_type": "error",
     "traceback": [
      "\u001b[0;31m---------------------------------------------------------------------------\u001b[0m",
      "\u001b[0;31mAttributeError\u001b[0m                            Traceback (most recent call last)",
      "\u001b[0;32m<ipython-input-25-7ff87c49bd1d>\u001b[0m in \u001b[0;36m<module>\u001b[0;34m\u001b[0m\n\u001b[0;32m----> 1\u001b[0;31m \u001b[0ma\u001b[0m\u001b[0;34m.\u001b[0m\u001b[0mself\u001b[0m\u001b[0;34m\u001b[0m\u001b[0;34m\u001b[0m\u001b[0m\n\u001b[0m",
      "\u001b[0;31mAttributeError\u001b[0m: 'function' object has no attribute 'self'"
     ]
    }
   ],
   "source": [
    "a"
   ]
  },
  {
   "cell_type": "code",
   "execution_count": 21,
   "metadata": {},
   "outputs": [
    {
     "data": {
      "text/plain": [
       "'yo'"
      ]
     },
     "execution_count": 21,
     "metadata": {},
     "output_type": "execute_result"
    }
   ],
   "source": [
    "def yo():\n",
    "    return None\n",
    "\n",
    "yo.__qualname__"
   ]
  },
  {
   "cell_type": "code",
   "execution_count": null,
   "metadata": {},
   "outputs": [],
   "source": []
  },
  {
   "cell_type": "code",
   "execution_count": null,
   "metadata": {},
   "outputs": [],
   "source": [
    "\n",
    "\n",
    "class ModelWrapper:\n",
    "    \"\"\"\n",
    "    Wraps a model.  \n",
    "    \"\"\"\n",
    "    \n",
    "    #_mw_ pre-prepended to internal variables to avoid contaminating \n",
    "    # class namespace when we start sticking arbitrary model arguments\n",
    "    # into self.__dict__\n",
    "    \n",
    "    # Has to be defined across class because we are going to hijack\n",
    "    # __setattr__ and need to look inside this as soon as we start\n",
    "    # setting attributes. \n",
    "    _mw_fit_parameters = {}\n",
    "    \n",
    "    def __init__(self,model_to_fit):\n",
    "                \n",
    "        self._model_to_fit = model_to_fit\n",
    "        self._mw_load_model()\n",
    "    \n",
    "    def _mw_load_model(self):\n",
    "\n",
    "        self._mw_fit_parameters = {}\n",
    "        self._mw_other_arguments = {}\n",
    "        \n",
    "        getting_fit_params = True\n",
    "        self._mw_signature = inspect.signature(self._model_to_fit)\n",
    "        for p in self._mw_signature.parameters:\n",
    "  \n",
    "            # Make sure that this parameter name isn't already being used by\n",
    "            # the wrapper. \n",
    "            try:\n",
    "                self.__dict__[p]\n",
    "                raise ValueError\n",
    "            except ValueError:\n",
    "                err = f\"Parameter name '{p}' reserved by this class.\\n\"\n",
    "                err += \"Please change the argument name in your function.\\n\"\n",
    "                raise ValueError(err)\n",
    "            except KeyError:\n",
    "                pass\n",
    "\n",
    "            # If we hit args or kwargs, stop looking for fittable parameters\n",
    "            if p in ['args','kwargs']:\n",
    "                getting_fit_params = False\n",
    "            \n",
    "            # Try to turn the argument default into a guess.  If this fails b/c \n",
    "            # default is not coercable into a float, stop trying to grab fit \n",
    "            # parameters. \n",
    "            if getting_fit_params:\n",
    "                if self._mw_signature.parameters[p].default == inspect._empty:\n",
    "                    guess = None\n",
    "                else:\n",
    "                    guess = self._mw_signature.parameters[p].default\n",
    "                    try:\n",
    "                        guess = np.float(guess)\n",
    "                    except (TypeError,ValueError):\n",
    "                        getting_fit_params = False\n",
    "            \n",
    "            # If we are still getting fit parameters, record this as a fit parameter\n",
    "            if getting_fit_params:\n",
    "                self._mw_fit_parameters[p] = likelihood.FitParameter(name=p,guess=guess)\n",
    "                self.__dict__[p] = self._mw_fit_parameters[p]\n",
    "                \n",
    "            # Otherwise, this is a standard model argument\n",
    "            else:\n",
    "                self._mw_other_arguments[p] = self._mw_signature.parameters[p].default\n",
    "                self.__dict__[p] = self._mw_other_arguments[p]\n",
    "\n",
    "                \n",
    "    def __setattr__(self, key, value):\n",
    "        \"\"\"\n",
    "        Hijack __setattr__ so setting the value for fit parameters\n",
    "        updates the fit guess. \n",
    "        \"\"\"\n",
    "        \n",
    "        # If we are not setting a fit parameter, just set it like normal\n",
    "        if key not in self._mw_fit_parameters.keys():\n",
    "            super(ModelWrapper, self).__setattr__(key, value)\n",
    "            return\n",
    "        \n",
    "        # Otherwise, we're setting the guess of the fit parameter\n",
    "        self._mw_fit_parameters[key].guess = value\n",
    "    \n",
    "    \n",
    "    def _mw_update_observable(self):\n",
    "        \"\"\"\n",
    "        \"\"\"\n",
    "        \n",
    "        self._param_to_p_map = []\n",
    "        self._mw_kwargs = {}\n",
    "        counter = 0\n",
    "        for p in self._mw_fit_parameters.keys():\n",
    "            if self._mw_fit_parameters[p].fixed:\n",
    "                self._mw_kwargs[p] = self._mw_fit_parameters[p].value\n",
    "            else:\n",
    "                self._mw_kwargs[p] = None\n",
    "                counter += 1\n",
    "        \n",
    "        self._mw_kwargs.update(self._mw_other_parameters)\n",
    "\n",
    "                \n",
    "    def mw_observable(self,params):\n",
    "    \n",
    "        for i in range(len(params)):\n",
    "            self._mw_kwargs[self._param_to_p_map[i]] = params[i]\n",
    "        \n",
    "        return self._model_to_fit(**self._mw_kwargs)\n",
    "        \n",
    "             \n",
    "    @property\n",
    "    def fit_parameters(self):\n",
    "        \"\"\"\n",
    "        \"\"\"\n",
    "        \n",
    "        return self._mw_fit_parameters\n",
    "\n",
    "    @property\n",
    "    def other_arguments(self):\n",
    "        \"\"\"\n",
    "        \"\"\"\n",
    "        \n",
    "        return self._mw_other_arguments\n",
    "    \n",
    "                \n",
    "mw = ModelWrapper(my_model)\n",
    "\n",
    "for p in mw.fit_parameters.keys():\n",
    "    mw.fit_parameters[p].bounds = [0,10]\n",
    "    \n",
    "mw.fit_parameters[\"K2\"].guess = 6\n",
    "mw.K2.guess = 6\n"
   ]
  },
  {
   "cell_type": "code",
   "execution_count": null,
   "metadata": {},
   "outputs": [],
   "source": [
    "from likelihood import ModelWrapper, MLFitter\n",
    "\n",
    "mw = ModelWrapper(my_model)\n",
    "mf = MLFitter(mw)\n",
    "mf.fit()\n"
   ]
  },
  {
   "cell_type": "code",
   "execution_count": null,
   "metadata": {},
   "outputs": [],
   "source": [
    "real = 0.1\n",
    "num_steps = 50\n",
    "scale_factor = 2\n",
    "\n",
    "rtol = 0.1\n",
    "atol = np.abs(real)*0.2\n",
    "\n",
    "a_real = np.abs(real)\n",
    "step_size = a_real/(num_steps//4)\n",
    "bottom = -(a_real*scale_factor)\n",
    "top = a_real*scale_factor + step_size\n",
    "\n",
    "for x in np.arange(bottom,top,step_size):\n",
    "    print(real,x,np.isclose(real,x,rtol=rtol,atol=atol))\n"
   ]
  },
  {
   "cell_type": "code",
   "execution_count": null,
   "metadata": {},
   "outputs": [],
   "source": [
    "import inspect\n",
    "def f(yo,junk):\n",
    "    print(f)\n",
    "    \n",
    "inspect.isfunction(f)\n",
    "len(inspect.signature(f).parameters)"
   ]
  },
  {
   "cell_type": "code",
   "execution_count": null,
   "metadata": {},
   "outputs": [],
   "source": [
    "isinstance(np.array([1,2,3]),np.ndarray)"
   ]
  },
  {
   "cell_type": "code",
   "execution_count": null,
   "metadata": {},
   "outputs": [],
   "source": [
    "isinstance(np.array([1,2,3]).dtype,np.int)"
   ]
  },
  {
   "cell_type": "code",
   "execution_count": null,
   "metadata": {},
   "outputs": [],
   "source": [
    "issubclass(n.dtype('int8').type, n.integer)"
   ]
  },
  {
   "cell_type": "code",
   "execution_count": null,
   "metadata": {},
   "outputs": [],
   "source": [
    "np.array(1,dtype=np.float)"
   ]
  },
  {
   "cell_type": "code",
   "execution_count": null,
   "metadata": {},
   "outputs": [],
   "source": [
    "try:\n",
    "    np.array(np.array([1,2,\"a\"],dtype=np.str),dtype=np.float)\n",
    "except ValueError as err:\n",
    "    err = f\"{err}\\n\\nguesses must be a list or array of floats\\n\\n\"\n",
    "    raise ValueError(err)"
   ]
  },
  {
   "cell_type": "code",
   "execution_count": null,
   "metadata": {},
   "outputs": [],
   "source": [
    "class Yo:\n",
    "    \n",
    "    def __init__(self):\n",
    "        \n",
    "        self.peach = 5\n",
    "    \n",
    "    def yo(self):\n",
    "        \n",
    "        self.__dict__[\"peach\"]\n",
    "        self.__dict__[\"test\"]\n",
    "        \n",
    "        \n",
    "x = Yo() \n",
    "        \n",
    "        "
   ]
  },
  {
   "cell_type": "raw",
   "metadata": {},
   "source": []
  },
  {
   "cell_type": "code",
   "execution_count": null,
   "metadata": {},
   "outputs": [],
   "source": [
    "x.yo()"
   ]
  },
  {
   "cell_type": "code",
   "execution_count": null,
   "metadata": {},
   "outputs": [],
   "source": []
  }
 ],
 "metadata": {
  "kernelspec": {
   "display_name": "Python 3",
   "language": "python",
   "name": "python3"
  },
  "language_info": {
   "codemirror_mode": {
    "name": "ipython",
    "version": 3
   },
   "file_extension": ".py",
   "mimetype": "text/x-python",
   "name": "python",
   "nbconvert_exporter": "python",
   "pygments_lexer": "ipython3",
   "version": "3.7.3"
  }
 },
 "nbformat": 4,
 "nbformat_minor": 4
}
