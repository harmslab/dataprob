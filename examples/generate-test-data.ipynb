{
 "cells": [
  {
   "cell_type": "code",
   "execution_count": null,
   "metadata": {},
   "outputs": [],
   "source": [
    "%matplotlib inline\n",
    "from matplotlib import pyplot as plt\n",
    "import numpy as np\n",
    "import pandas as pd\n",
    "import json, pickle"
   ]
  },
  {
   "cell_type": "markdown",
   "metadata": {},
   "source": [
    "## Write test data\n",
    "<h3><font color=\"red\">WARNING: this will update test files.</font></h3>\n",
    "\n",
    "This may cause tests that depend on fit-values to fail.  To run, uncomment `write_new_test_data()` below."
   ]
  },
  {
   "cell_type": "code",
   "execution_count": null,
   "metadata": {},
   "outputs": [],
   "source": [
    "    \n",
    "def model(K,X):\n",
    "    \"\"\"\n",
    "    Simple, saturating binding curve.\n",
    "\n",
    "    K: association constant\n",
    "    X: vector of X concentrations\n",
    "    \"\"\"\n",
    "\n",
    "    return K*X/(1 + K*X)\n",
    "\n",
    "def write_new_test_data(K=0.5,prefix=\"binding-curves\"):\n",
    "       \n",
    "\n",
    "    test_files = []\n",
    "    X_concs = np.arange(0,10,0.25)\n",
    "    fig, ax = plt.subplots()\n",
    "    for noise in [0.0,0.05,0.1]:\n",
    "        name = f\"{noise:.3f}\"\n",
    "\n",
    "        frac_sat = model(K,X_concs) + np.random.normal(0,noise,len(X_concs))\n",
    "\n",
    "\n",
    "        df = pd.DataFrame({\"X\":X_concs,\n",
    "                       \"Y\":frac_sat})\n",
    "\n",
    "        ax.plot(df.X,df.Y,\"o\",label=name)\n",
    "        \n",
    "        test_files.append(f\"{prefix}_noise-{name}.csv\")\n",
    "        \n",
    "        df.to_csv(test_files[-1])\n",
    "        \n",
    "    ax.legend()\n",
    "    ax.set_xlabel(\"X\")\n",
    "    ax.set_ylabel(\"Y\")\n",
    "    ax.set_title(f\"{prefix}\")\n",
    "    fig.savefig(f\"{prefix}.pdf\")\n",
    "    \n",
    "    json_dict = {\"input_params\":(K,),\n",
    "                 \"test_files\":test_files}\n",
    "    \n",
    "    json.dump(json_dict,open(f\"{prefix}.json\",\"w\"))\n",
    "    \n",
    "    plt.show()\n",
    "    \n",
    "    \n",
    "#write_new_test_data()"
   ]
  },
  {
   "cell_type": "code",
   "execution_count": null,
   "metadata": {},
   "outputs": [],
   "source": []
  }
 ],
 "metadata": {
  "kernelspec": {
   "display_name": "Python 3",
   "language": "python",
   "name": "python3"
  },
  "language_info": {
   "codemirror_mode": {
    "name": "ipython",
    "version": 3
   },
   "file_extension": ".py",
   "mimetype": "text/x-python",
   "name": "python",
   "nbconvert_exporter": "python",
   "pygments_lexer": "ipython3",
   "version": "3.7.3"
  }
 },
 "nbformat": 4,
 "nbformat_minor": 4
}
