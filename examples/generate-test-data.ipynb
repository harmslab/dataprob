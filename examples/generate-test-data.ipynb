{
 "cells": [
  {
   "cell_type": "code",
   "execution_count": 1,
   "metadata": {},
   "outputs": [],
   "source": [
    "%matplotlib inline\n",
    "from matplotlib import pyplot as plt\n",
    "import numpy as np\n",
    "import pandas as pd\n",
    "import scipy.optimize\n",
    "import json, pickle"
   ]
  },
  {
   "cell_type": "markdown",
   "metadata": {},
   "source": [
    "## Write test data\n",
    "<h3><font color=\"red\">WARNING: this will update test files.</font></h3>\n",
    "\n",
    "This may cause tests that depend on fit-values to fail.  To run, uncomment `write_new_test_data()` below."
   ]
  },
  {
   "cell_type": "code",
   "execution_count": 4,
   "metadata": {},
   "outputs": [
    {
     "data": {
      "image/png": "[encoded data removed]",
      "text/plain": [
       "<Figure size 432x288 with 1 Axes>"
      ]
     },
     "metadata": {
      "needs_background": "light"
     },
     "output_type": "display_data"
    }
   ],
   "source": [
    "\n",
    "def model(K,X):\n",
    "    \"\"\"\n",
    "    Simple, saturating binding curve.\n",
    "\n",
    "    K: association constant\n",
    "    X: vector of X concentrations\n",
    "    \"\"\"\n",
    "\n",
    "    return K*X/(1 + K*X)\n",
    "\n",
    "def model_residual(params,X,Y):\n",
    "    \"\"\"\n",
    "    Residual for fitting a simple saturating binding curve.\n",
    "    \n",
    "    params: array with fit parameters: (K,) in this case\n",
    "    X: vector of X concentrations\n",
    "    Y: vector of Y observations\"\"\"\n",
    "    \n",
    "    return model(params[0],X) - Y\n",
    "    \n",
    "    \n",
    "def write_new_test_data(K=0.5,\n",
    "                        guess=1,\n",
    "                        noise=0.05,\n",
    "                        y_stdev=0.05,\n",
    "                        X_concs=np.arange(0,10,0.25),\n",
    "                        prefix=\"binding-curves\"):\n",
    "       \n",
    "    name = f\"{noise:.3f}\"\n",
    "\n",
    "    json_dict = {}\n",
    "    json_dict[\"input_params\"] = (K,)\n",
    "    json_dict[\"guesses\"] = (guess,)\n",
    "    \n",
    "    # Create fake data with noise and write out\n",
    "    noise = np.random.normal(0,noise,len(X_concs))\n",
    "    frac_sat = model(K,X_concs) + noise\n",
    "    Y_stdev = np.abs(noise)\n",
    "    residual = frac_sat - model(K,X_concs)\n",
    "    weighted_residual = residual/Y_stdev\n",
    "    sigma2 = Y_stdev**2\n",
    "        \n",
    "    df = pd.DataFrame({\"X\":X_concs,\n",
    "                       \"Y\":frac_sat,\n",
    "                       \"Y_stdev\":Y_stdev,\n",
    "                       \"residual\":residual,\n",
    "                       \"weighted_residual\":weighted_residual})\n",
    "    \n",
    "    csv_out = f\"{prefix}_noise-{name}.csv\"\n",
    "    df.to_csv(csv_out)\n",
    "    json_dict[\"test_file\"] = csv_out\n",
    "\n",
    "    # Record log likelihood\n",
    "    json_dict[\"ln_like\"] = -0.5*(np.sum((frac_sat - model(K,X_concs))**2/sigma2 + np.log(sigma2)))\n",
    "    \n",
    "    \n",
    "    # Fit model to data\n",
    "    fit = scipy.optimize.least_squares(model_residual,\n",
    "                                       [guess],\n",
    "                                       kwargs={\"X\":X_concs,\"Y\":frac_sat})\n",
    "    json_dict[\"fit_params\"] = tuple(fit.x)\n",
    "    \n",
    "    # Create plot \n",
    "    fig, ax = plt.subplots()\n",
    "    \n",
    "    ax.errorbar(df.X,df.Y,yerr=df.Y_stdev,fmt=\"o\",color=\"black\",label=name)\n",
    "    ax.plot(df.X,model(fit.x[0],df.X),\"-\",color=\"red\",label=f\"{name} fit\")\n",
    "    ax.legend()\n",
    "    ax.set_xlabel(\"X\")\n",
    "    ax.set_ylabel(\"Y\")\n",
    "    ax.set_title(f\"{prefix}\")\n",
    "    fig.savefig(f\"{prefix}.pdf\")\n",
    "    \n",
    "    plt.show()\n",
    "    \n",
    "    json.dump(json_dict,open(f\"{prefix}.json\",\"w\"))\n",
    "    \n",
    "\n",
    "write_new_test_data()"
   ]
  },
  {
   "cell_type": "code",
   "execution_count": null,
   "metadata": {},
   "outputs": [],
   "source": []
  },
  {
   "cell_type": "code",
   "execution_count": null,
   "metadata": {},
   "outputs": [],
   "source": []
  }
 ],
 "metadata": {
  "kernelspec": {
   "display_name": "Python 3",
   "language": "python",
   "name": "python3"
  },
  "language_info": {
   "codemirror_mode": {
    "name": "ipython",
    "version": 3
   },
   "file_extension": ".py",
   "mimetype": "text/x-python",
   "name": "python",
   "nbconvert_exporter": "python",
   "pygments_lexer": "ipython3",
   "version": "3.7.3"
  }
 },
 "nbformat": 4,
 "nbformat_minor": 4
}
