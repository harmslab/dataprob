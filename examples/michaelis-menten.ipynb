{
 "cells": [
  {
   "cell_type": "code",
   "execution_count": null,
   "id": "487b509e-384e-4cde-9cd3-c0514b1e757f",
   "metadata": {},
   "outputs": [],
   "source": [
    "### THIS CELL SETS UP THE GOOGLE COLAB ENVIRONMENT. \n",
    "### IF RUNNING THIS NOTEBOOK LOCALLY, IT MAY BE SAFELY DELETED.\n",
    "\n",
    "#@title Install software\n",
    "\n",
    "#@markdown Install the software by pressing the _Play_ button on the left.\n",
    "\n",
    "try:\n",
    "    import google.colab\n",
    "    RUNNING_IN_COLAB = True\n",
    "except ImportError:\n",
    "    RUNNING_IN_COLAB = False\n",
    "except Exception as e: \n",
    "    err = \"Could not figure out if runnning in a colab notebook\\n\"\n",
    "    raise Exception(err) from e\n",
    "\n",
    "if RUNNING_IN_COLAB:\n",
    "    !pip install dataprob\n"
   ]
  },
  {
   "cell_type": "code",
   "execution_count": null,
   "id": "cb7ab6ad-9dad-42fa-bbe2-fa378d37bc23",
   "metadata": {},
   "outputs": [],
   "source": [
    "%matplotlib inline\n",
    "import dataprob\n",
    "import numpy as np\n",
    "\n",
    "def michaelis_menten(vmax=100,km=30,s0=None): \n",
    "    return s0/(s0 + km)*vmax\n",
    "\n",
    "gen_params = {\"vmax\":300,\n",
    "              \"km\":10}\n",
    "\n",
    "err = 5\n",
    "num_points = 20\n",
    "\n",
    "s0 = np.linspace(0,100,num_points)\n",
    "y_obs = michaelis_menten(s0=s0,**gen_params) + np.random.normal(0,err,num_points)\n",
    "y_std = err\n",
    "\n",
    "non_fit_kwargs = {\"s0\":s0}\n",
    "\n",
    "f = dataprob.setup(some_function=michaelis_menten,\n",
    "                   method=\"ml\",\n",
    "                   non_fit_kwargs=non_fit_kwargs)\n",
    "f.fit(y_obs=y_obs,\n",
    "      y_std=y_std)\n",
    "\n",
    "fig = dataprob.plot_summary(f)"
   ]
  },
  {
   "cell_type": "code",
   "execution_count": null,
   "id": "23cb3f1a-26a6-4965-98de-71d7e3c0b4a3",
   "metadata": {},
   "outputs": [],
   "source": [
    "fig = dataprob.plot_corner(f)"
   ]
  },
  {
   "cell_type": "code",
   "execution_count": null,
   "id": "0b1f8fd9-1191-42b7-9707-cd809c6b837d",
   "metadata": {},
   "outputs": [],
   "source": [
    "f.fit_df"
   ]
  },
  {
   "cell_type": "code",
   "execution_count": null,
   "id": "0438d7b1-584e-41cf-87cd-2823de55b402",
   "metadata": {},
   "outputs": [],
   "source": [
    "f.fit_quality"
   ]
  },
  {
   "cell_type": "markdown",
   "id": "88621444-7407-4585-94ca-8185c386c28e",
   "metadata": {},
   "source": [
    "### Compare input and fit parameters"
   ]
  },
  {
   "cell_type": "code",
   "execution_count": null,
   "id": "5a80eabe-e425-4d5e-add4-448cfc7b2616",
   "metadata": {},
   "outputs": [],
   "source": [
    "from matplotlib import pyplot as plt\n",
    "\n",
    "fig, ax = plt.subplots(1,figsize=(6,6))\n",
    "\n",
    "x = np.array(list(gen_params.values()))\n",
    "y = np.array(f.fit_df.loc[gen_params.keys(),\"estimate\"])\n",
    "yerr = np.array(f.fit_df.loc[gen_params.keys(),\"std\"])\n",
    "\n",
    "combined = list(x)\n",
    "combined.extend(y)\n",
    "span = (np.max(combined) - np.min(combined))\n",
    "extend_by = 0.1*span\n",
    "offset = 0.03*span\n",
    "min_value = np.min(combined) - extend_by\n",
    "max_value = np.max(combined) + extend_by\n",
    "\n",
    "ax.scatter(x,y,s=20,edgecolor='none',facecolor='red',zorder=1)\n",
    "ax.errorbar(x=x,y=y,yerr=yerr,lw=0,elinewidth=1,capsize=3,color='black',zorder=2)\n",
    "\n",
    "for i, k in enumerate(gen_params.keys()):\n",
    "    ax.text(x=x[i] - offset,y=y[i] + offset,s=k)\n",
    "\n",
    "\n",
    "ax.plot((min_value,max_value),(min_value,max_value),'--',color='gray',zorder=0)\n",
    "\n",
    "ax.set_xlim(min_value,max_value)\n",
    "ax.set_ylim(min_value,max_value)\n",
    "ax.set_xlabel(\"input parameter value\")\n",
    "ax.set_ylabel(\"estimated parameter value\")\n"
   ]
  },
  {
   "cell_type": "code",
   "execution_count": null,
   "id": "117f67e5-ea47-4435-8b26-f8fefcd8f9aa",
   "metadata": {},
   "outputs": [],
   "source": []
  }
 ],
 "metadata": {
  "kernelspec": {
   "display_name": "Python 3 (ipykernel)",
   "language": "python",
   "name": "python3"
  },
  "language_info": {
   "codemirror_mode": {
    "name": "ipython",
    "version": 3
   },
   "file_extension": ".py",
   "mimetype": "text/x-python",
   "name": "python",
   "nbconvert_exporter": "python",
   "pygments_lexer": "ipython3",
   "version": "3.12.2"
  }
 },
 "nbformat": 4,
 "nbformat_minor": 5
}
