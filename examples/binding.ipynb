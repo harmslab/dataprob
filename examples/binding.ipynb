{
 "cells": [
  {
   "cell_type": "code",
   "execution_count": null,
   "id": "ef2a1bab-5c5c-4ae5-9f8c-e0a6c6ec7ffd",
   "metadata": {},
   "outputs": [],
   "source": [
    "### THIS CELL SETS UP THE GOOGLE COLAB ENVIRONMENT. \n",
    "### IF RUNNING THIS NOTEBOOK LOCALLY, IT MAY BE SAFELY DELETED.\n",
    "\n",
    "#@title Install software\n",
    "\n",
    "#@markdown Install the software by pressing the _Play_ button on the left.\n",
    "\n",
    "try:\n",
    "    import google.colab\n",
    "    RUNNING_IN_COLAB = True\n",
    "except ImportError:\n",
    "    RUNNING_IN_COLAB = False\n",
    "except Exception as e: \n",
    "    err = \"Could not figure out if runnning in a colab notebook\\n\"\n",
    "    raise Exception(err) from e\n",
    "\n",
    "if RUNNING_IN_COLAB:\n",
    "    !pip install dataprob"
   ]
  },
  {
   "cell_type": "code",
   "execution_count": null,
   "id": "d409a022-794e-4cf0-939e-4c9a946ce033",
   "metadata": {},
   "outputs": [],
   "source": [
    "%matplotlib inline\n",
    "import numpy as np\n",
    "import dataprob\n",
    "\n",
    "def binding_curve(K=1,x=None): \n",
    "    return x/(K + x)\n",
    "\n",
    "gen_params = {\"K\":1e-3}\n",
    "\n",
    "err = 0.05\n",
    "num_points = 20\n",
    "x = 10**(np.linspace(-8,0,num_points))\n",
    "y_obs = binding_curve(x=x,**gen_params) + np.random.normal(0,err,num_points)\n",
    "y_std = err\n",
    "\n",
    "non_fit_kwargs = {\"x\":x}\n",
    "\n",
    "f = dataprob.setup(some_function=binding_curve,\n",
    "                   method=\"ml\",\n",
    "                   non_fit_kwargs=non_fit_kwargs)\n",
    "\n",
    "f.fit(y_obs=y_obs,\n",
    "      y_std=y_std)\n",
    "\n",
    "fig = dataprob.plot_summary(f,\n",
    "                            x_axis=np.log10(x),\n",
    "                            x_label=\"log10([X])\",\n",
    "                            y_label=\"fractional saturation\")"
   ]
  },
  {
   "cell_type": "code",
   "execution_count": null,
   "id": "7678c606-ead1-41cf-bae9-649367dc72db",
   "metadata": {},
   "outputs": [],
   "source": [
    "fig = dataprob.plot_corner(f)"
   ]
  },
  {
   "cell_type": "code",
   "execution_count": null,
   "id": "a7eb9dec-c5f0-479a-bb78-f471554b2757",
   "metadata": {},
   "outputs": [],
   "source": [
    "f.fit_df"
   ]
  },
  {
   "cell_type": "code",
   "execution_count": null,
   "id": "971401ed-a193-4389-a7ce-00d8114db4a2",
   "metadata": {},
   "outputs": [],
   "source": [
    "f.fit_quality"
   ]
  },
  {
   "cell_type": "markdown",
   "id": "72a43520-5384-4268-a733-ff0db4061c5c",
   "metadata": {},
   "source": [
    "### Compare input and fit parameters"
   ]
  },
  {
   "cell_type": "code",
   "execution_count": null,
   "id": "30b856f8-ef53-457e-baf3-7e527e2fc44d",
   "metadata": {},
   "outputs": [],
   "source": [
    "from matplotlib import pyplot as plt\n",
    "\n",
    "fig, ax = plt.subplots(1,figsize=(6,6))\n",
    "\n",
    "x = np.array(list(gen_params.values()))\n",
    "y = np.array(f.fit_df.loc[gen_params.keys(),\"estimate\"])\n",
    "yerr = np.array(f.fit_df.loc[gen_params.keys(),\"std\"])\n",
    "\n",
    "combined = list(x)\n",
    "combined.extend(y)\n",
    "span = 0.05 \n",
    "extend_by = 0.1*span\n",
    "offset = 0.03*span\n",
    "min_value = np.min(combined) - extend_by\n",
    "max_value = np.max(combined) + extend_by\n",
    "\n",
    "ax.scatter(x,y,s=20,edgecolor='none',facecolor='red',zorder=1)\n",
    "ax.errorbar(x=x,y=y,yerr=yerr,lw=0,elinewidth=1,capsize=3,color='black',zorder=2)\n",
    "\n",
    "for i, k in enumerate(gen_params.keys()):\n",
    "    ax.text(x=x[i] - offset,y=y[i] + offset,s=k)\n",
    "\n",
    "\n",
    "ax.plot((min_value,max_value),(min_value,max_value),'--',color='gray',zorder=0)\n",
    "\n",
    "ax.set_xlim(min_value,max_value)\n",
    "ax.set_ylim(min_value,max_value)\n",
    "ax.set_xlabel(\"input parameter value\")\n",
    "ax.set_ylabel(\"estimated parameter value\")\n",
    "\n"
   ]
  },
  {
   "cell_type": "code",
   "execution_count": null,
   "id": "bfe56da1-c3b9-40cd-9c20-9035003e3724",
   "metadata": {},
   "outputs": [],
   "source": []
  }
 ],
 "metadata": {
  "kernelspec": {
   "display_name": "Python 3 (ipykernel)",
   "language": "python",
   "name": "python3"
  },
  "language_info": {
   "codemirror_mode": {
    "name": "ipython",
    "version": 3
   },
   "file_extension": ".py",
   "mimetype": "text/x-python",
   "name": "python",
   "nbconvert_exporter": "python",
   "pygments_lexer": "ipython3",
   "version": "3.12.2"
  }
 },
 "nbformat": 4,
 "nbformat_minor": 5
}
