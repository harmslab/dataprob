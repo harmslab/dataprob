{
 "cells": [
  {
   "cell_type": "code",
   "execution_count": 38,
   "metadata": {},
   "outputs": [],
   "source": [
    "%matplotlib inline\n",
    "from matplotlib import pyplot as plt\n",
    "import dataprob\n",
    "import pandas as pd\n",
    "import numpy as np"
   ]
  },
  {
   "cell_type": "markdown",
   "metadata": {},
   "source": [
    "### Example model and data\n",
    "\n",
    "Models should have the form:\n",
    "```\n",
    "def some_model(param1,param2,param3,...other_args,...other_kwargs):\n",
    "    return observable\n",
    "```"
   ]
  },
  {
   "cell_type": "code",
   "execution_count": 39,
   "metadata": {},
   "outputs": [
    {
     "data": {
      "image/png": "[encoded data removed]",
      "text/plain": [
       "<Figure size 640x480 with 1 Axes>"
      ]
     },
     "metadata": {},
     "output_type": "display_data"
    },
    {
     "data": {
      "text/html": [
       "<div>\n",
       "<style scoped>\n",
       "    .dataframe tbody tr th:only-of-type {\n",
       "        vertical-align: middle;\n",
       "    }\n",
       "\n",
       "    .dataframe tbody tr th {\n",
       "        vertical-align: top;\n",
       "    }\n",
       "\n",
       "    .dataframe thead th {\n",
       "        text-align: right;\n",
       "    }\n",
       "</style>\n",
       "<table border=\"1\" class=\"dataframe\">\n",
       "  <thead>\n",
       "    <tr style=\"text-align: right;\">\n",
       "      <th></th>\n",
       "      <th>X</th>\n",
       "      <th>Y</th>\n",
       "      <th>Y_stdev</th>\n",
       "      <th>residual</th>\n",
       "      <th>weighted_residual</th>\n",
       "    </tr>\n",
       "  </thead>\n",
       "  <tbody>\n",
       "    <tr>\n",
       "      <th>0</th>\n",
       "      <td>0.00</td>\n",
       "      <td>0.010697</td>\n",
       "      <td>0.010697</td>\n",
       "      <td>0.010697</td>\n",
       "      <td>1.0</td>\n",
       "    </tr>\n",
       "    <tr>\n",
       "      <th>1</th>\n",
       "      <td>0.25</td>\n",
       "      <td>0.158333</td>\n",
       "      <td>0.047222</td>\n",
       "      <td>0.047222</td>\n",
       "      <td>1.0</td>\n",
       "    </tr>\n",
       "    <tr>\n",
       "      <th>2</th>\n",
       "      <td>0.50</td>\n",
       "      <td>0.209849</td>\n",
       "      <td>0.009849</td>\n",
       "      <td>0.009849</td>\n",
       "      <td>1.0</td>\n",
       "    </tr>\n",
       "    <tr>\n",
       "      <th>3</th>\n",
       "      <td>0.75</td>\n",
       "      <td>0.217865</td>\n",
       "      <td>0.054863</td>\n",
       "      <td>-0.054863</td>\n",
       "      <td>-1.0</td>\n",
       "    </tr>\n",
       "    <tr>\n",
       "      <th>4</th>\n",
       "      <td>1.00</td>\n",
       "      <td>0.268995</td>\n",
       "      <td>0.064339</td>\n",
       "      <td>-0.064339</td>\n",
       "      <td>-1.0</td>\n",
       "    </tr>\n",
       "  </tbody>\n",
       "</table>\n",
       "</div>"
      ],
      "text/plain": [
       "      X         Y   Y_stdev  residual  weighted_residual\n",
       "0  0.00  0.010697  0.010697  0.010697                1.0\n",
       "1  0.25  0.158333  0.047222  0.047222                1.0\n",
       "2  0.50  0.209849  0.009849  0.009849                1.0\n",
       "3  0.75  0.217865  0.054863 -0.054863               -1.0\n",
       "4  1.00  0.268995  0.064339 -0.064339               -1.0"
      ]
     },
     "execution_count": 39,
     "metadata": {},
     "output_type": "execute_result"
    }
   ],
   "source": [
    "def binding_model(K,X=None):\n",
    "    \"\"\"\n",
    "    Simple, saturating binding curve.\n",
    "\n",
    "    K: association constant\n",
    "    X: vector of X concentrations\n",
    "    \"\"\"\n",
    "\n",
    "    return K*X/(1 + K*X)\n",
    "\n",
    "df = pd.read_csv(\"binding-curves_noise-0.050.csv\",index_col=0)\n",
    "\n",
    "fig, ax = plt.subplots()\n",
    "ax.errorbar(df.X,df.Y,yerr=df.Y_stdev,fmt=\"o\",color=\"black\")\n",
    "plt.show()\n",
    "\n",
    "df.head()"
   ]
  },
  {
   "cell_type": "markdown",
   "metadata": {},
   "source": [
    "### Wrap the binding model"
   ]
  },
  {
   "cell_type": "code",
   "execution_count": 47,
   "metadata": {},
   "outputs": [
    {
     "name": "stdout",
     "output_type": "stream",
     "text": [
      "  param name  guess  fixed  lower_bound  upper_bound  prior_mean  prior_std\n",
      "0     K    K    0.0  False         -inf          inf         NaN        NaN\n"
     ]
    },
    {
     "data": {
      "text/html": [
       "<div>\n",
       "<style scoped>\n",
       "    .dataframe tbody tr th:only-of-type {\n",
       "        vertical-align: middle;\n",
       "    }\n",
       "\n",
       "    .dataframe tbody tr th {\n",
       "        vertical-align: top;\n",
       "    }\n",
       "\n",
       "    .dataframe thead th {\n",
       "        text-align: right;\n",
       "    }\n",
       "</style>\n",
       "<table border=\"1\" class=\"dataframe\">\n",
       "  <thead>\n",
       "    <tr style=\"text-align: right;\">\n",
       "      <th></th>\n",
       "      <th>param</th>\n",
       "      <th>name</th>\n",
       "      <th>guess</th>\n",
       "      <th>fixed</th>\n",
       "      <th>lower_bound</th>\n",
       "      <th>upper_bound</th>\n",
       "      <th>prior_mean</th>\n",
       "      <th>prior_std</th>\n",
       "    </tr>\n",
       "  </thead>\n",
       "  <tbody>\n",
       "    <tr>\n",
       "      <th>0</th>\n",
       "      <td>K</td>\n",
       "      <td>K</td>\n",
       "      <td>5.0</td>\n",
       "      <td>False</td>\n",
       "      <td>-inf</td>\n",
       "      <td>inf</td>\n",
       "      <td>NaN</td>\n",
       "      <td>NaN</td>\n",
       "    </tr>\n",
       "  </tbody>\n",
       "</table>\n",
       "</div>"
      ],
      "text/plain": [
       "  param name  guess  fixed  lower_bound  upper_bound  prior_mean  prior_std\n",
       "0     K    K    5.0  False         -inf          inf         NaN        NaN"
      ]
     },
     "execution_count": 47,
     "metadata": {},
     "output_type": "execute_result"
    }
   ],
   "source": [
    "mw = dataprob.wrap_function(binding_model)\n",
    "mw.X = df.X\n",
    "print(mw.dataframe)\n",
    "a = mw.dataframe\n",
    "a[\"guess\"] = 5\n",
    "mw.dataframe = a\n",
    "mw.dataframe\n",
    "\n",
    "# mw.model()"
   ]
  },
  {
   "cell_type": "markdown",
   "metadata": {},
   "source": [
    "### Construct the fitter and do the fit"
   ]
  },
  {
   "cell_type": "code",
   "execution_count": 43,
   "metadata": {},
   "outputs": [
    {
     "data": {
      "text/html": [
       "<div>\n",
       "<style scoped>\n",
       "    .dataframe tbody tr th:only-of-type {\n",
       "        vertical-align: middle;\n",
       "    }\n",
       "\n",
       "    .dataframe tbody tr th {\n",
       "        vertical-align: top;\n",
       "    }\n",
       "\n",
       "    .dataframe thead th {\n",
       "        text-align: right;\n",
       "    }\n",
       "</style>\n",
       "<table border=\"1\" class=\"dataframe\">\n",
       "  <thead>\n",
       "    <tr style=\"text-align: right;\">\n",
       "      <th></th>\n",
       "      <th>param</th>\n",
       "      <th>estimate</th>\n",
       "      <th>stdev</th>\n",
       "      <th>low_95</th>\n",
       "      <th>high_95</th>\n",
       "      <th>guess</th>\n",
       "      <th>prior_mean</th>\n",
       "      <th>prior_std</th>\n",
       "      <th>lower_bound</th>\n",
       "      <th>upper_bound</th>\n",
       "      <th>fixed</th>\n",
       "    </tr>\n",
       "  </thead>\n",
       "  <tbody>\n",
       "    <tr>\n",
       "      <th>0</th>\n",
       "      <td>K</td>\n",
       "      <td>0.493423</td>\n",
       "      <td>0.280837</td>\n",
       "      <td>-0.075103</td>\n",
       "      <td>1.061949</td>\n",
       "      <td>0.0</td>\n",
       "      <td>NaN</td>\n",
       "      <td>NaN</td>\n",
       "      <td>-inf</td>\n",
       "      <td>inf</td>\n",
       "      <td>False</td>\n",
       "    </tr>\n",
       "  </tbody>\n",
       "</table>\n",
       "</div>"
      ],
      "text/plain": [
       "  param  estimate     stdev    low_95   high_95  guess  prior_mean  prior_std  \\\n",
       "0     K  0.493423  0.280837 -0.075103  1.061949    0.0         NaN        NaN   \n",
       "\n",
       "   lower_bound  upper_bound  fixed  \n",
       "0         -inf          inf  False  "
      ]
     },
     "execution_count": 43,
     "metadata": {},
     "output_type": "execute_result"
    }
   ],
   "source": [
    "# Wrap the binding model and set the 'X' parameter\n",
    "mw = dataprob.wrap_function(binding_model)\n",
    "mw.X = df.X\n",
    "\n",
    "# Create a fitter and indicate the model is mw\n",
    "f = dataprob.MLFitter()\n",
    "f.model = mw\n",
    "\n",
    "# Find parameters of binding_model that maximize the likelihood of the\n",
    "# seeing df.Y given df.X. \n",
    "f.fit(y_obs=df.Y)\n",
    "f.fit_df"
   ]
  },
  {
   "cell_type": "code",
   "execution_count": 36,
   "metadata": {},
   "outputs": [
    {
     "name": "stdout",
     "output_type": "stream",
     "text": [
      "True\n",
      "[0.49342304]\n"
     ]
    },
    {
     "data": {
      "text/html": [
       "<div>\n",
       "<style scoped>\n",
       "    .dataframe tbody tr th:only-of-type {\n",
       "        vertical-align: middle;\n",
       "    }\n",
       "\n",
       "    .dataframe tbody tr th {\n",
       "        vertical-align: top;\n",
       "    }\n",
       "\n",
       "    .dataframe thead th {\n",
       "        text-align: right;\n",
       "    }\n",
       "</style>\n",
       "<table border=\"1\" class=\"dataframe\">\n",
       "  <thead>\n",
       "    <tr style=\"text-align: right;\">\n",
       "      <th></th>\n",
       "      <th>param</th>\n",
       "      <th>estimate</th>\n",
       "      <th>stdev</th>\n",
       "      <th>low_95</th>\n",
       "      <th>high_95</th>\n",
       "      <th>guess</th>\n",
       "      <th>prior_mean</th>\n",
       "      <th>prior_std</th>\n",
       "      <th>lower_bound</th>\n",
       "      <th>upper_bound</th>\n",
       "      <th>fixed</th>\n",
       "    </tr>\n",
       "  </thead>\n",
       "  <tbody>\n",
       "    <tr>\n",
       "      <th>0</th>\n",
       "      <td>K</td>\n",
       "      <td>0.493423</td>\n",
       "      <td>0.280837</td>\n",
       "      <td>-0.075103</td>\n",
       "      <td>1.061949</td>\n",
       "      <td>1.0</td>\n",
       "      <td>NaN</td>\n",
       "      <td>NaN</td>\n",
       "      <td>-inf</td>\n",
       "      <td>inf</td>\n",
       "      <td>False</td>\n",
       "    </tr>\n",
       "  </tbody>\n",
       "</table>\n",
       "</div>"
      ],
      "text/plain": [
       "  param  estimate     stdev    low_95   high_95  guess  prior_mean  prior_std  \\\n",
       "0     K  0.493423  0.280837 -0.075103  1.061949    1.0         NaN        NaN   \n",
       "\n",
       "   lower_bound  upper_bound  fixed  \n",
       "0         -inf          inf  False  "
      ]
     },
     "execution_count": 36,
     "metadata": {},
     "output_type": "execute_result"
    }
   ],
   "source": [
    "f = dataprob.MLFitter()\n",
    "f.fit(model=mw.model,guesses=[1.0],y_obs=df.Y,)\n",
    "print(f.success)\n",
    "print(f.estimate)\n",
    "f.fit_df"
   ]
  },
  {
   "cell_type": "markdown",
   "metadata": {},
   "source": [
    "### Alternate way to construct fitter and do fit"
   ]
  },
  {
   "cell_type": "code",
   "execution_count": null,
   "metadata": {},
   "outputs": [],
   "source": [
    "f = dataprob.MLFitter()\n",
    "f.model = mw.model\n",
    "f.guesses = [1]\n",
    "f.y_obs = df.Y\n",
    "f.fit()\n",
    "print(f.success)\n",
    "print(f.estimate)\n",
    "f.fit_df"
   ]
  },
  {
   "cell_type": "markdown",
   "metadata": {},
   "source": [
    "### Add weighted residuals"
   ]
  },
  {
   "cell_type": "code",
   "execution_count": null,
   "metadata": {},
   "outputs": [],
   "source": [
    "f = dataprob.MLFitter()\n",
    "f.fit(model=mw.model,y_obs=df.Y,y_stdev=df.Y_stdev)\n",
    "print(f.success)\n",
    "print(f.estimate)\n",
    "f.fit_df"
   ]
  },
  {
   "cell_type": "markdown",
   "metadata": {},
   "source": [
    "### Plotting"
   ]
  },
  {
   "cell_type": "code",
   "execution_count": null,
   "metadata": {},
   "outputs": [],
   "source": [
    "# Plot the fit\n",
    "fig, ax = plt.subplots()\n",
    "ax.errorbar(df.X,df.Y,yerr=df.Y_stdev,fmt=\"o\",color=\"black\")\n",
    "#ax.plot(df.X,mw.model(),\"-\",color='red')\n",
    "ax.plot(df.X,mw.model(f.estimate),\"-\",color='red')"
   ]
  },
  {
   "cell_type": "markdown",
   "metadata": {},
   "source": [
    "### Corner plot"
   ]
  },
  {
   "cell_type": "code",
   "execution_count": null,
   "metadata": {},
   "outputs": [],
   "source": [
    "f.corner_plot()"
   ]
  },
  {
   "cell_type": "markdown",
   "metadata": {},
   "source": [
    "### You can add parameter bounds and names"
   ]
  },
  {
   "cell_type": "code",
   "execution_count": null,
   "metadata": {},
   "outputs": [],
   "source": [
    "mw.bounds"
   ]
  },
  {
   "cell_type": "code",
   "execution_count": null,
   "metadata": {},
   "outputs": [],
   "source": [
    "f = dataprob.MLFitter()\n",
    "f.model = mw.model\n",
    "f.guesses = [1.0]\n",
    "f.y_obs = df.Y\n",
    "f.y_stdev = df.Y_stdev\n",
    "f.bounds = [[0],[np.inf]]\n",
    "f.param_names = [\"Kx\"]\n",
    "f.fit()\n",
    "print(f.success)\n",
    "print(f.estimate)\n",
    "f.fit_df"
   ]
  },
  {
   "cell_type": "markdown",
   "metadata": {},
   "source": [
    "### Bayesian fitter"
   ]
  },
  {
   "cell_type": "code",
   "execution_count": null,
   "metadata": {},
   "outputs": [],
   "source": [
    "f = dataprob.BayesianFitter()\n",
    "f.fit(model=mw.model,guesses=[1.0],y_obs=df.Y,y_stdev=df.Y_stdev)\n",
    "print(f.success)\n",
    "print(f.estimate)\n",
    "f.fit_df\n"
   ]
  },
  {
   "cell_type": "code",
   "execution_count": null,
   "metadata": {},
   "outputs": [],
   "source": [
    "fig, ax = plt.subplots()\n",
    "ax.errorbar(df.X,df.Y,yerr=df.Y_stdev,fmt=\"o\",color=\"black\")\n",
    "\n",
    "# Plot 100 fits sampled from posterior\n",
    "for i in range(0,len(f.samples),90):\n",
    "    ax.plot(df.X,mw.model(f.samples[i,:]),\"-\",color='red',alpha=0.1)"
   ]
  },
  {
   "cell_type": "code",
   "execution_count": null,
   "metadata": {},
   "outputs": [],
   "source": []
  },
  {
   "cell_type": "code",
   "execution_count": null,
   "metadata": {},
   "outputs": [],
   "source": []
  },
  {
   "cell_type": "code",
   "execution_count": null,
   "metadata": {},
   "outputs": [],
   "source": []
  }
 ],
 "metadata": {
  "kernelspec": {
   "display_name": "Python 3 (ipykernel)",
   "language": "python",
   "name": "python3"
  },
  "language_info": {
   "codemirror_mode": {
    "name": "ipython",
    "version": 3
   },
   "file_extension": ".py",
   "mimetype": "text/x-python",
   "name": "python",
   "nbconvert_exporter": "python",
   "pygments_lexer": "ipython3",
   "version": "3.12.2"
  }
 },
 "nbformat": 4,
 "nbformat_minor": 4
}
