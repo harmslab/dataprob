{
 "cells": [
  {
   "cell_type": "code",
   "execution_count": 63,
   "id": "816f33e1-6223-4ba5-b862-f1ded5009767",
   "metadata": {},
   "outputs": [],
   "source": [
    "%matplotlib inline\n",
    "import emcee\n",
    "import numpy as np\n",
    "from matplotlib import pyplot as plt\n",
    "import pandas as pd"
   ]
  },
  {
   "cell_type": "code",
   "execution_count": 6,
   "id": "ed142691-9073-48fe-b3be-0c158fc4d5b5",
   "metadata": {},
   "outputs": [],
   "source": [
    "def ln_prob(param): return -param[0]*param[1]\n",
    "num_steps = 10\n",
    "num_walkers = 10\n",
    "ndim = 2\n",
    "pos = [np.random.normal(loc=0,scale=1,size=2)\n",
    "       for _ in range(num_walkers)]\n",
    "\n",
    "es = emcee.EnsembleSampler(num_walkers,\n",
    "                           ndim,\n",
    "                           ln_prob)\n",
    "yo = es.run_mcmc(pos,num_steps)"
   ]
  },
  {
   "cell_type": "code",
   "execution_count": 145,
   "id": "fec6475a-7dcf-4da9-8bb9-08ed012f08c5",
   "metadata": {},
   "outputs": [
    {
     "name": "stderr",
     "output_type": "stream",
     "text": [
      "/Users/harmsm/miniconda3/lib/python3.12/site-packages/numpy/core/_methods.py:118: RuntimeWarning: invalid value encountered in reduce\n",
      "  ret = umr_sum(arr, axis, dtype, out, keepdims, where=where)\n"
     ]
    },
    {
     "data": {
      "text/plain": [
       "nan"
      ]
     },
     "execution_count": 145,
     "metadata": {},
     "output_type": "execute_result"
    }
   ],
   "source": [
    "np.mean([-np.inf,np.inf])"
   ]
  },
  {
   "cell_type": "code",
   "execution_count": 61,
   "id": "7f24409a-e325-4103-a412-71aafd71eb35",
   "metadata": {},
   "outputs": [
    {
     "data": {
      "text/plain": [
       "array([0.47628129, 0.96412469, 0.24411467, 0.5481956 , 0.32095011,\n",
       "       0.52541791, 0.63221125, 0.48021056, 0.46275819, 0.73930419])"
      ]
     },
     "execution_count": 61,
     "metadata": {},
     "output_type": "execute_result"
    }
   ],
   "source": [
    "np.random.random(10)"
   ]
  },
  {
   "cell_type": "code",
   "execution_count": 148,
   "id": "8f098fc9-0168-4d12-966a-7aeb8cfce4a4",
   "metadata": {},
   "outputs": [
    {
     "data": {
      "text/plain": [
       "array([[-1.19202922e-04,  3.20586033e+07],\n",
       "       [-0.00000000e+00,  1.19202922e+08],\n",
       "       [ 0.00000000e+00,  3.56085740e+08],\n",
       "       [-3.20586033e-05, -1.19202922e+08],\n",
       "       [-3.56085740e-04,  0.00000000e+00],\n",
       "       [ 1.00000000e-03, -3.20586033e+07],\n",
       "       [-1.00000000e-03, -3.56085740e+08],\n",
       "       [ 3.20586033e-05, -1.00000000e+09],\n",
       "       [ 3.56085740e-04, -0.00000000e+00],\n",
       "       [ 1.19202922e-04,  1.00000000e+09]])"
      ]
     },
     "execution_count": 148,
     "metadata": {},
     "output_type": "execute_result"
    }
   ],
   "source": [
    "def _sample_gaussian(prior_mean,\n",
    "                     prior_std,\n",
    "                     lower_bound,\n",
    "                     upper_bound,\n",
    "                     num_walkers):\n",
    "    \n",
    "    # generate a huge number of possible priors \n",
    "    gaussian_priors = np.random.normal(loc=prior_mean,\n",
    "                                       scale=prior_std,\n",
    "                                       size=num_walkers*1000)\n",
    "    \n",
    "    # Grab only those priors that are within the bounds\n",
    "    good_mask = np.logical_and(gaussian_priors > lower_bound,\n",
    "                               gaussian_priors < upper_bound)\n",
    "    good_priors = gaussian_priors[good_mask]\n",
    "    \n",
    "    # If we have enough good priors, keep them. If we have only a few\n",
    "    # good priors, it means the bounds have sliced out a ridiculously\n",
    "    # tiny chunk of the distribution. Approximate the walkers as \n",
    "    # a uniform sample from that distribution. \n",
    "    if len(good_priors) >= num_walkers:\n",
    "        return good_priors[:num_walkers]\n",
    "\n",
    "    return None\n",
    "\n",
    "def _sample_uniform(lower_bound,\n",
    "                    upper_bound,\n",
    "                    num_walkers,\n",
    "                    infinity_proxy):\n",
    "\n",
    "    # Slice down infinite bounds to largish numbers\n",
    "    if np.isinf(lower_bound): \n",
    "        lower_bound = -infinity_proxy\n",
    "    if np.isinf(upper_bound):\n",
    "        upper_bound = infinity_proxy\n",
    "\n",
    "    # If only one walker, put at the mean of the bounds\n",
    "    if num_walkers == 1:\n",
    "        return [np.mean([lower_bound,upper_bound])]\n",
    "\n",
    "    # If the upper and lower bounds have the same sign, make a uniform\n",
    "    # span between them (log steps). For example, 1e-9 to 1e-6 with four\n",
    "    # walkers would yield 1e-9, 1e-8, 1e-7, 1e-6\n",
    "    if upper_bound*lower_bound > 0:\n",
    "        \n",
    "        steps = np.exp(np.arange(num_walkers))\n",
    "        steps = (steps - np.min(steps))/(np.max(steps) - np.min(steps))\n",
    "        walkers = steps*(upper_bound - lower_bound) + lower_bound\n",
    "        np.random.shuffle(walkers)\n",
    "        \n",
    "        return walkers\n",
    "\n",
    "    # If the upper and lower bounds have different signs, make uniform\n",
    "    # spans from 0 to upper and 0 to lower, weighted by how much of the\n",
    "    # the span is above and below. \n",
    "    \n",
    "    # Figure out fraction of uniform distribution below zero\n",
    "    lower_mag = np.abs(lower_bound)\n",
    "    upper_mag = np.abs(upper_bound)\n",
    "    fx_lower = lower_mag/(lower_mag + upper_mag)\n",
    "\n",
    "    # Figure out how many walkers to place above and below zero\n",
    "    num_below = int(np.round(fx_lower*num_walkers,0))\n",
    "\n",
    "    # Make sure we have at least one above and one below\n",
    "    if num_below == 0: \n",
    "        num_below = 1\n",
    "    if num_below == num_walkers:\n",
    "        num_below = num_walkers - 1\n",
    "    num_above = num_walkers - num_below\n",
    "\n",
    "    # Create steps from 0 to upper_bound\n",
    "    steps = np.exp(np.arange(num_above))\n",
    "    steps = (steps - np.min(steps))/(np.max(steps) - np.min(steps))\n",
    "    above_walkers = list(steps*upper_bound)\n",
    "\n",
    "    # Create steps from 0 to lower_bound\n",
    "    steps = np.exp(np.arange(num_below))\n",
    "    steps = (steps - np.min(steps))/(np.max(steps) - np.min(steps))\n",
    "    below_walkers = list(steps*lower_bound)\n",
    "\n",
    "    # Combine all steps\n",
    "    above_walkers.extend(below_walkers)\n",
    "    walkers = np.array(above_walkers)\n",
    "\n",
    "    # Shuffle randomly\n",
    "    np.random.shuffle(walkers)\n",
    "\n",
    "    return walkers\n",
    "\n",
    "\n",
    "def _create_walkers(param_df,\n",
    "                    num_walkers,\n",
    "                    infinity_proxy=1e9):\n",
    "\n",
    "    walker_list = []\n",
    "\n",
    "    # Go through each parameter one-by-one\n",
    "    for p in param_df.index:\n",
    "        \n",
    "        # Skip fixed parameters\n",
    "        if param_df.loc[p,\"fixed\"]:\n",
    "            continue\n",
    "\n",
    "        # Get prior mean, std, and bounds\n",
    "        guess = param_df.loc[p,\"guess\"]\n",
    "        prior_mean = param_df.loc[p,\"prior_mean\"]\n",
    "        prior_std = param_df.loc[p,\"prior_std\"]\n",
    "        lower_bound = param_df.loc[p,\"lower_bound\"]\n",
    "        upper_bound = param_df.loc[p,\"upper_bound\"]\n",
    "\n",
    "        # If gaussian prior, try to do that first. \n",
    "        if not np.isnan(prior_mean):\n",
    "\n",
    "            gaussian_priors = _sample_gaussian(prior_mean,\n",
    "                                               prior_std,\n",
    "                                               lower_bound,\n",
    "                                               upper_bound,\n",
    "                                               num_walkers)\n",
    "            if gaussian_priors is not None:\n",
    "                walker_list.append(gaussian_priors)\n",
    "                continue\n",
    "\n",
    "        # If we get here, gaussian priors were not given or did not work.\n",
    "        uniform_priors = _sample_uniform(lower_bound,\n",
    "                                         upper_bound,\n",
    "                                         num_walkers,\n",
    "                                         infinity_proxy)\n",
    "        walker_list.append(uniform_priors)\n",
    "        \n",
    "    walkers = np.array(walker_list).T\n",
    "\n",
    "    return walkers\n",
    "\n",
    "\n",
    "param_df = pd.DataFrame({\"name\":[\"a\",\"b\"],\n",
    "                        \"guess\":[1,2],\n",
    "                        \"fixed\":[False,False],\n",
    "                        \"prior_mean\":[np.nan,np.nan],\n",
    "                        \"prior_std\":[2,np.nan],\n",
    "                        \"lower_bound\":[-0.001,-np.inf],\n",
    "                        \"upper_bound\":[0.001,np.inf]})\n",
    "\n",
    "s = _create_walkers(param_df=param_df,\n",
    "                num_walkers=10)\n",
    "s"
   ]
  },
  {
   "cell_type": "code",
   "execution_count": 131,
   "id": "7aae1500-52fb-4f4f-bfdc-f929531c3375",
   "metadata": {},
   "outputs": [
    {
     "data": {
      "text/plain": [
       "-6.907755278982137"
      ]
     },
     "execution_count": 131,
     "metadata": {},
     "output_type": "execute_result"
    }
   ],
   "source": [
    "np.log(10)\n",
    "np.log(0.001)"
   ]
  },
  {
   "cell_type": "code",
   "execution_count": 46,
   "id": "37b6db98-9787-47a1-9aee-767514221b07",
   "metadata": {},
   "outputs": [],
   "source": [
    "prior_dist = stats.sampling.FastGeneratorInversion(rv)\n",
    "x = prior_dist.rvs((10,2))\n",
    "means = np.array([0,1])\n",
    "stds = np.array([10,1])"
   ]
  },
  {
   "cell_type": "code",
   "execution_count": 50,
   "id": "4cbfd5fc-c9a1-4847-8969-767319df0198",
   "metadata": {},
   "outputs": [
    {
     "data": {
      "text/plain": [
       "array([[-0.00309253, -0.65680484],\n",
       "       [-0.10013265, -2.06772866],\n",
       "       [-0.01153172, -0.97799837],\n",
       "       [ 0.29657577, -0.38081001],\n",
       "       [-0.06001777,  0.47087776],\n",
       "       [-0.03209133, -2.95918773],\n",
       "       [ 0.06411045, -1.43260952],\n",
       "       [-0.09383089, -0.040393  ],\n",
       "       [-0.03906135, -1.07416001],\n",
       "       [ 0.06609788, -1.31870454]])"
      ]
     },
     "execution_count": 50,
     "metadata": {},
     "output_type": "execute_result"
    }
   ],
   "source": [
    "(x - means)/stds"
   ]
  },
  {
   "cell_type": "code",
   "execution_count": null,
   "id": "d861d704-3374-4fcd-8aba-220dbf3e019a",
   "metadata": {},
   "outputs": [],
   "source": []
  }
 ],
 "metadata": {
  "kernelspec": {
   "display_name": "Python 3 (ipykernel)",
   "language": "python",
   "name": "python3"
  },
  "language_info": {
   "codemirror_mode": {
    "name": "ipython",
    "version": 3
   },
   "file_extension": ".py",
   "mimetype": "text/x-python",
   "name": "python",
   "nbconvert_exporter": "python",
   "pygments_lexer": "ipython3",
   "version": "3.12.2"
  }
 },
 "nbformat": 4,
 "nbformat_minor": 5
}
