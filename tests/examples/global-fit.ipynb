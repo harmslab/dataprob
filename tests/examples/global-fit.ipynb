{
 "cells": [
  {
   "cell_type": "code",
   "execution_count": null,
   "id": "b11cea11-6bb7-4286-9550-6a47f3c017ad",
   "metadata": {},
   "outputs": [],
   "source": [
    "%matplotlib inline\n",
    "from matplotlib import pyplot as plt\n",
    "import numpy as np\n",
    "import pandas as pd\n",
    "\n",
    "import dataprob\n",
    "import copy\n",
    "\n",
    "import linkage\n"
   ]
  },
  {
   "cell_type": "code",
   "execution_count": null,
   "id": "f3fe4b35-004f-436c-9781-b764af8a4c3e",
   "metadata": {},
   "outputs": [],
   "source": [
    "df = pd.DataFrame({\"out\":[1,2]})\n",
    "issubclass(type(None),type(None))\n"
   ]
  },
  {
   "cell_type": "markdown",
   "id": "b8a4d8a8-adcf-4dfe-9ec7-5567ab6551e4",
   "metadata": {},
   "source": [
    "#### Load experimental data"
   ]
  },
  {
   "cell_type": "code",
   "execution_count": null,
   "id": "75839bf7-0265-4c1b-9bdb-770c1d2fb2f1",
   "metadata": {},
   "outputs": [],
   "source": [
    "\n",
    "blank = linkage.experiment.Experiment(\"data/itc_blank_expt.csv\",\n",
    "                                      cell_contents={},\n",
    "                                      syringe_contents={\"ET\":5e-3},\n",
    "                                      cell_volume=280)\n",
    "blank.define_itc_observable(obs_column=\"heat\",\n",
    "                            obs_stdev=0.01)\n",
    "\n",
    "binding = linkage.experiment.Experiment(\"data/itc_binding_expt.csv\",\n",
    "                                        cell_contents={\"CT\":0.5e-3},\n",
    "                                        syringe_contents={\"ET\":5e-3},\n",
    "                                        cell_volume=280)\n",
    "binding.define_itc_observable(obs_column=\"heat\",\n",
    "                              obs_stdev=0.01)\n"
   ]
  },
  {
   "cell_type": "markdown",
   "id": "47cb7093-8e36-4d30-99b8-174cd98964ac",
   "metadata": {},
   "source": [
    "#### Create a linkage model"
   ]
  },
  {
   "cell_type": "code",
   "execution_count": null,
   "id": "973ecc70-baf0-4fc2-a25a-047d67b0da51",
   "metadata": {},
   "outputs": [],
   "source": [
    "expt_list = [blank,binding] \n",
    "\n",
    "gm = linkage.GlobalModel(model_name=\"CaEDTA\",\n",
    "                         expt_list=expt_list)"
   ]
  },
  {
   "cell_type": "code",
   "execution_count": null,
   "id": "a8a63bdf-c16e-41ee-8cf1-c42bdd34c132",
   "metadata": {},
   "outputs": [],
   "source": [
    "from dataprob.model_wrapper import vector_model_wrapper\n",
    "fittable_params = dict(zip(gm.parameter_names,gm.parameter_guesses))\n",
    "mw = vector_model_wrapper.VectorModelWrapper(gm.model_normalized,\n",
    "                                             fittable_params=fittable_params)"
   ]
  },
  {
   "cell_type": "markdown",
   "id": "bda19ab6-4db2-47c3-83d7-3c8486f3a1f2",
   "metadata": {},
   "source": [
    "#### Plot data"
   ]
  },
  {
   "cell_type": "code",
   "execution_count": null,
   "id": "23a62168-ae70-4396-b740-e84389e06cb0",
   "metadata": {},
   "outputs": [],
   "source": [
    "mw.fit_parameters"
   ]
  },
  {
   "cell_type": "code",
   "execution_count": null,
   "id": "e82c93f3-c3f8-44c9-b1a8-73f6b86ee6fe",
   "metadata": {},
   "outputs": [],
   "source": [
    "style = {\"s\":50,\n",
    "         \"facecolor\":\"none\",\n",
    "         \"edgecolor\":\"black\"}\n",
    "\n",
    "color_order = [\"red\",\"black\"]\n",
    "fig, ax = plt.subplots(1,figsize=(6,6))\n",
    "for i in range(len(gm._expt_list)):\n",
    "    style[\"edgecolor\"] = color_order[i]\n",
    "    ax.scatter(np.arange(len(gm._expt_list[i].expt_data[\"heat\"])),\n",
    "               gm._expt_list[i].expt_data[\"heat\"],**style)\n",
    "plt.xlabel(\"injection\")\n",
    "plt.ylabel(\"heat\")\n"
   ]
  },
  {
   "cell_type": "markdown",
   "id": "293deeb5-170a-4b1d-9261-8366c78b2423",
   "metadata": {},
   "source": [
    "#### Do fit"
   ]
  },
  {
   "cell_type": "code",
   "execution_count": null,
   "id": "4ac7eaa7-d428-497a-8bb9-1e6d36580023",
   "metadata": {},
   "outputs": [],
   "source": [
    "help(gm.model_normalized)"
   ]
  },
  {
   "cell_type": "code",
   "execution_count": null,
   "id": "5e1f3d4c-2ada-4e86-8a04-4ba7792feece",
   "metadata": {},
   "outputs": [],
   "source": [
    "mw = dataprob.ModelWrapper(gm.model_normalized,\n",
    "                           fittable_params=gm.parameter_names)\n",
    "mw.guesses = gm.parameter_guesses"
   ]
  },
  {
   "cell_type": "code",
   "execution_count": null,
   "id": "f09830f6-3078-45bd-97eb-e82b4204556e",
   "metadata": {},
   "outputs": [],
   "source": [
    "#BayesianFitter does a Bayesian sampling rather than maximum likelihood fit\n",
    "\n",
    "F = dataprob.MLFitter()\n",
    "#F = dataprob.BayesianFitter()\n",
    "F.fit(model=mw, #gm.model_normalized,\n",
    "      guesses=[5,-11000,0,0],\n",
    "      #names=gm.parameter_names,\n",
    "      y_obs=gm.y_obs_normalized,\n",
    "      y_stdev=gm.y_stdev_normalized)\n",
    "F.fit_df"
   ]
  },
  {
   "cell_type": "markdown",
   "id": "1987676f-1c6a-44a3-995e-44af42226172",
   "metadata": {},
   "source": [
    "#### Plot results"
   ]
  },
  {
   "cell_type": "code",
   "execution_count": null,
   "id": "a6680df0-9b17-40fe-89c2-b9d6b6b110a1",
   "metadata": {},
   "outputs": [],
   "source": [
    "\n",
    "df = gm.as_df\n",
    "\n",
    "style = {\"s\":50,\n",
    "         \"facecolor\":\"none\",\n",
    "         \"edgecolor\":\"black\"}\n",
    "color_order = [\"red\",\"black\"]\n",
    "\n",
    "for expt in np.unique(df[\"expt_id\"]):\n",
    "    this_df = df.loc[df[\"expt_id\"] == expt,:]\n",
    "\n",
    "    x = np.arange(len(this_df))\n",
    "\n",
    "    style[\"edgecolor\"] = color_order[expt]\n",
    "    plt.scatter(x,this_df[\"y_obs\"],**style)\n",
    "    plt.errorbar(x=x,\n",
    "                 y=this_df[\"y_obs\"],\n",
    "                 yerr=this_df[\"y_stdev\"],\n",
    "                 ls=\"none\",\n",
    "                 lw=1,\n",
    "                 capsize=3,\n",
    "                 color=color_order[expt])\n",
    "    plt.plot(np.arange(len(this_df)),\n",
    "             this_df[\"y_calc\"],\n",
    "             '-',\n",
    "             lw=2,\n",
    "             color=color_order[expt])\n",
    "plt.xlabel(\"injection\")\n",
    "plt.ylabel(\"heat\")\n",
    "\n",
    "F.fit_df"
   ]
  },
  {
   "cell_type": "markdown",
   "id": "05c00ad5-e78d-473d-9b75-912a24b41f63",
   "metadata": {},
   "source": [
    "#### Corner plot to look for parameter correlations"
   ]
  },
  {
   "cell_type": "code",
   "execution_count": null,
   "id": "7e403511-ccb0-4181-9e3a-efa381aacf6a",
   "metadata": {},
   "outputs": [],
   "source": [
    "_ = F.corner_plot(filter_params=\"nuisance\")"
   ]
  },
  {
   "cell_type": "code",
   "execution_count": null,
   "id": "6ffe58ee-d894-4cb5-9d91-a261a9d9e48a",
   "metadata": {},
   "outputs": [],
   "source": []
  },
  {
   "cell_type": "code",
   "execution_count": null,
   "id": "d72d8bfd-d925-445e-967d-4f6603621a2d",
   "metadata": {},
   "outputs": [],
   "source": []
  }
 ],
 "metadata": {
  "kernelspec": {
   "display_name": "Python 3 (ipykernel)",
   "language": "python",
   "name": "python3"
  },
  "language_info": {
   "codemirror_mode": {
    "name": "ipython",
    "version": 3
   },
   "file_extension": ".py",
   "mimetype": "text/x-python",
   "name": "python",
   "nbconvert_exporter": "python",
   "pygments_lexer": "ipython3",
   "version": "3.12.2"
  }
 },
 "nbformat": 4,
 "nbformat_minor": 5
}
